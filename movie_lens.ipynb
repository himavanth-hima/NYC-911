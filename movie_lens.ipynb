{
 "cells": [
  {
   "cell_type": "markdown",
   "metadata": {},
   "source": [
    "<img src=\"http://cfs22.simplicdn.net/ice9/new_logo.svgz \"/>\n",
    "\n",
    "# Project 04: Movielens Dataset Analysis\n",
    "\n",
    "You don't need to limit yourself to the number of rows/cells provided. You can add additional rows in each section to add more lines of code.\n",
    "\n",
    "**Happy coding!**"
   ]
  },
  {
   "cell_type": "code",
   "execution_count": 1,
   "metadata": {
    "scrolled": true
   },
   "outputs": [
    {
     "data": {
      "text/plain": [
       "['movies.dat', 'movie_lens.csv', 'New folder', 'ratings.dat', 'users.dat']"
      ]
     },
     "execution_count": 1,
     "metadata": {},
     "output_type": "execute_result"
    }
   ],
   "source": [
    "import os\n",
    "cwd =os.chdir(r'C:\\Machine_learning_datafiles\\simplilearn_projects\\movielens')\n",
    "os.listdir(cwd)"
   ]
  },
  {
   "cell_type": "code",
   "execution_count": 2,
   "metadata": {},
   "outputs": [],
   "source": [
    "import numpy as np\n",
    "import pandas as pd\n",
    "import seaborn as sns\n",
    "import matplotlib.pyplot as plt\n",
    "plt.style.use('ggplot')"
   ]
  },
  {
   "cell_type": "code",
   "execution_count": 3,
   "metadata": {},
   "outputs": [],
   "source": [
    "import warnings\n",
    "warnings.filterwarnings('ignore')"
   ]
  },
  {
   "cell_type": "code",
   "execution_count": 4,
   "metadata": {},
   "outputs": [],
   "source": [
    "movie_data = pd.read_csv('movies.dat', sep='::', names=['MovieId','Title','Genre'])\n",
    "ratings_data = pd.read_csv('ratings.dat', sep= '::', names=['UserId','MovieId','Rating','TimeStamp'])\n",
    "users_data = pd.read_csv('users.dat', sep='::', names=['UserId','Gender','Age','Occupation','Zipcode'])"
   ]
  },
  {
   "cell_type": "code",
   "execution_count": 7,
   "metadata": {},
   "outputs": [
    {
     "data": {
      "text/plain": [
       "(Index(['MovieId', 'Title', 'Genre'], dtype='object'),\n",
       " Index(['UserId', 'MovieId', 'Rating', 'TimeStamp'], dtype='object'),\n",
       " Index(['UserId', 'Gender', 'Age', 'Occupation', 'Zipcode'], dtype='object'))"
      ]
     },
     "execution_count": 7,
     "metadata": {},
     "output_type": "execute_result"
    }
   ],
   "source": [
    "movie_data.columns, ratings_data.columns, users_data.columns"
   ]
  },
  {
   "cell_type": "code",
   "execution_count": 8,
   "metadata": {},
   "outputs": [],
   "source": [
    "master_data= pd.merge(ratings_data,users_data, on= 'UserId', how='left')\n",
    "master_data = pd.merge(master_data,movie_data, on= 'MovieId',how='left')"
   ]
  },
  {
   "cell_type": "code",
   "execution_count": 5,
   "metadata": {},
   "outputs": [],
   "source": [
    "pd.set_option('max_columns',5000)"
   ]
  },
  {
   "cell_type": "code",
   "execution_count": 10,
   "metadata": {},
   "outputs": [],
   "source": [
    "master_data.to_csv('movie_lens.csv', index=False)"
   ]
  },
  {
   "cell_type": "code",
   "execution_count": 68,
   "metadata": {},
   "outputs": [
    {
     "name": "stdout",
     "output_type": "stream",
     "text": [
      "Wall time: 9.72 s\n"
     ]
    },
    {
     "data": {
      "text/html": [
       "<div>\n",
       "<style scoped>\n",
       "    .dataframe tbody tr th:only-of-type {\n",
       "        vertical-align: middle;\n",
       "    }\n",
       "\n",
       "    .dataframe tbody tr th {\n",
       "        vertical-align: top;\n",
       "    }\n",
       "\n",
       "    .dataframe thead th {\n",
       "        text-align: right;\n",
       "    }\n",
       "</style>\n",
       "<table border=\"1\" class=\"dataframe\">\n",
       "  <thead>\n",
       "    <tr style=\"text-align: right;\">\n",
       "      <th></th>\n",
       "      <th>UserId</th>\n",
       "      <th>MovieId</th>\n",
       "      <th>Rating</th>\n",
       "      <th>TimeStamp</th>\n",
       "      <th>Gender</th>\n",
       "      <th>Age</th>\n",
       "      <th>Occupation</th>\n",
       "      <th>Zipcode</th>\n",
       "      <th>Title</th>\n",
       "      <th>Genre</th>\n",
       "    </tr>\n",
       "  </thead>\n",
       "  <tbody>\n",
       "    <tr>\n",
       "      <td>0</td>\n",
       "      <td>1</td>\n",
       "      <td>1193</td>\n",
       "      <td>5</td>\n",
       "      <td>978300760</td>\n",
       "      <td>F</td>\n",
       "      <td>1</td>\n",
       "      <td>10</td>\n",
       "      <td>48067</td>\n",
       "      <td>One Flew Over the Cuckoo's Nest (1975)</td>\n",
       "      <td>Drama</td>\n",
       "    </tr>\n",
       "    <tr>\n",
       "      <td>1</td>\n",
       "      <td>1</td>\n",
       "      <td>661</td>\n",
       "      <td>3</td>\n",
       "      <td>978302109</td>\n",
       "      <td>F</td>\n",
       "      <td>1</td>\n",
       "      <td>10</td>\n",
       "      <td>48067</td>\n",
       "      <td>James and the Giant Peach (1996)</td>\n",
       "      <td>Animation|Children's|Musical</td>\n",
       "    </tr>\n",
       "    <tr>\n",
       "      <td>2</td>\n",
       "      <td>1</td>\n",
       "      <td>914</td>\n",
       "      <td>3</td>\n",
       "      <td>978301968</td>\n",
       "      <td>F</td>\n",
       "      <td>1</td>\n",
       "      <td>10</td>\n",
       "      <td>48067</td>\n",
       "      <td>My Fair Lady (1964)</td>\n",
       "      <td>Musical|Romance</td>\n",
       "    </tr>\n",
       "    <tr>\n",
       "      <td>3</td>\n",
       "      <td>1</td>\n",
       "      <td>3408</td>\n",
       "      <td>4</td>\n",
       "      <td>978300275</td>\n",
       "      <td>F</td>\n",
       "      <td>1</td>\n",
       "      <td>10</td>\n",
       "      <td>48067</td>\n",
       "      <td>Erin Brockovich (2000)</td>\n",
       "      <td>Drama</td>\n",
       "    </tr>\n",
       "    <tr>\n",
       "      <td>4</td>\n",
       "      <td>1</td>\n",
       "      <td>2355</td>\n",
       "      <td>5</td>\n",
       "      <td>978824291</td>\n",
       "      <td>F</td>\n",
       "      <td>1</td>\n",
       "      <td>10</td>\n",
       "      <td>48067</td>\n",
       "      <td>Bug's Life, A (1998)</td>\n",
       "      <td>Animation|Children's|Comedy</td>\n",
       "    </tr>\n",
       "  </tbody>\n",
       "</table>\n",
       "</div>"
      ],
      "text/plain": [
       "   UserId  MovieId  Rating  TimeStamp Gender  Age  Occupation Zipcode  \\\n",
       "0       1     1193       5  978300760      F    1          10   48067   \n",
       "1       1      661       3  978302109      F    1          10   48067   \n",
       "2       1      914       3  978301968      F    1          10   48067   \n",
       "3       1     3408       4  978300275      F    1          10   48067   \n",
       "4       1     2355       5  978824291      F    1          10   48067   \n",
       "\n",
       "                                    Title                         Genre  \n",
       "0  One Flew Over the Cuckoo's Nest (1975)                         Drama  \n",
       "1        James and the Giant Peach (1996)  Animation|Children's|Musical  \n",
       "2                     My Fair Lady (1964)               Musical|Romance  \n",
       "3                  Erin Brockovich (2000)                         Drama  \n",
       "4                    Bug's Life, A (1998)   Animation|Children's|Comedy  "
      ]
     },
     "execution_count": 68,
     "metadata": {},
     "output_type": "execute_result"
    }
   ],
   "source": [
    "%%time\n",
    "master_data= pd.read_csv('movie_lens.csv')\n",
    "master_data.head()"
   ]
  },
  {
   "cell_type": "code",
   "execution_count": 69,
   "metadata": {},
   "outputs": [
    {
     "name": "stdout",
     "output_type": "stream",
     "text": [
      "Wall time: 5.88 s\n"
     ]
    }
   ],
   "source": [
    "%%time\n",
    "master_data['TimeStamp'] = master_data['TimeStamp'].apply(lambda x: pd.Timestamp(x, unit='s'))"
   ]
  },
  {
   "cell_type": "code",
   "execution_count": 8,
   "metadata": {},
   "outputs": [
    {
     "data": {
      "text/plain": [
       "(1000209, 10)"
      ]
     },
     "execution_count": 8,
     "metadata": {},
     "output_type": "execute_result"
    }
   ],
   "source": [
    "master_data.shape"
   ]
  },
  {
   "cell_type": "code",
   "execution_count": 9,
   "metadata": {},
   "outputs": [
    {
     "data": {
      "text/html": [
       "<div>\n",
       "<style scoped>\n",
       "    .dataframe tbody tr th:only-of-type {\n",
       "        vertical-align: middle;\n",
       "    }\n",
       "\n",
       "    .dataframe tbody tr th {\n",
       "        vertical-align: top;\n",
       "    }\n",
       "\n",
       "    .dataframe thead th {\n",
       "        text-align: right;\n",
       "    }\n",
       "</style>\n",
       "<table border=\"1\" class=\"dataframe\">\n",
       "  <thead>\n",
       "    <tr style=\"text-align: right;\">\n",
       "      <th></th>\n",
       "      <th>UserId</th>\n",
       "      <th>MovieId</th>\n",
       "      <th>Rating</th>\n",
       "      <th>TimeStamp</th>\n",
       "      <th>Gender</th>\n",
       "      <th>Age</th>\n",
       "      <th>Occupation</th>\n",
       "      <th>Zipcode</th>\n",
       "      <th>Title</th>\n",
       "      <th>Genre</th>\n",
       "    </tr>\n",
       "  </thead>\n",
       "  <tbody>\n",
       "    <tr>\n",
       "      <td>0</td>\n",
       "      <td>1</td>\n",
       "      <td>1193</td>\n",
       "      <td>5</td>\n",
       "      <td>2000-12-31 22:12:40</td>\n",
       "      <td>F</td>\n",
       "      <td>1</td>\n",
       "      <td>10</td>\n",
       "      <td>48067</td>\n",
       "      <td>One Flew Over the Cuckoo's Nest (1975)</td>\n",
       "      <td>Drama</td>\n",
       "    </tr>\n",
       "    <tr>\n",
       "      <td>1</td>\n",
       "      <td>1</td>\n",
       "      <td>661</td>\n",
       "      <td>3</td>\n",
       "      <td>2000-12-31 22:35:09</td>\n",
       "      <td>F</td>\n",
       "      <td>1</td>\n",
       "      <td>10</td>\n",
       "      <td>48067</td>\n",
       "      <td>James and the Giant Peach (1996)</td>\n",
       "      <td>Animation|Children's|Musical</td>\n",
       "    </tr>\n",
       "    <tr>\n",
       "      <td>2</td>\n",
       "      <td>1</td>\n",
       "      <td>914</td>\n",
       "      <td>3</td>\n",
       "      <td>2000-12-31 22:32:48</td>\n",
       "      <td>F</td>\n",
       "      <td>1</td>\n",
       "      <td>10</td>\n",
       "      <td>48067</td>\n",
       "      <td>My Fair Lady (1964)</td>\n",
       "      <td>Musical|Romance</td>\n",
       "    </tr>\n",
       "    <tr>\n",
       "      <td>3</td>\n",
       "      <td>1</td>\n",
       "      <td>3408</td>\n",
       "      <td>4</td>\n",
       "      <td>2000-12-31 22:04:35</td>\n",
       "      <td>F</td>\n",
       "      <td>1</td>\n",
       "      <td>10</td>\n",
       "      <td>48067</td>\n",
       "      <td>Erin Brockovich (2000)</td>\n",
       "      <td>Drama</td>\n",
       "    </tr>\n",
       "    <tr>\n",
       "      <td>4</td>\n",
       "      <td>1</td>\n",
       "      <td>2355</td>\n",
       "      <td>5</td>\n",
       "      <td>2001-01-06 23:38:11</td>\n",
       "      <td>F</td>\n",
       "      <td>1</td>\n",
       "      <td>10</td>\n",
       "      <td>48067</td>\n",
       "      <td>Bug's Life, A (1998)</td>\n",
       "      <td>Animation|Children's|Comedy</td>\n",
       "    </tr>\n",
       "  </tbody>\n",
       "</table>\n",
       "</div>"
      ],
      "text/plain": [
       "   UserId  MovieId  Rating           TimeStamp Gender  Age  Occupation  \\\n",
       "0       1     1193       5 2000-12-31 22:12:40      F    1          10   \n",
       "1       1      661       3 2000-12-31 22:35:09      F    1          10   \n",
       "2       1      914       3 2000-12-31 22:32:48      F    1          10   \n",
       "3       1     3408       4 2000-12-31 22:04:35      F    1          10   \n",
       "4       1     2355       5 2001-01-06 23:38:11      F    1          10   \n",
       "\n",
       "  Zipcode                                   Title  \\\n",
       "0   48067  One Flew Over the Cuckoo's Nest (1975)   \n",
       "1   48067        James and the Giant Peach (1996)   \n",
       "2   48067                     My Fair Lady (1964)   \n",
       "3   48067                  Erin Brockovich (2000)   \n",
       "4   48067                    Bug's Life, A (1998)   \n",
       "\n",
       "                          Genre  \n",
       "0                         Drama  \n",
       "1  Animation|Children's|Musical  \n",
       "2               Musical|Romance  \n",
       "3                         Drama  \n",
       "4   Animation|Children's|Comedy  "
      ]
     },
     "execution_count": 9,
     "metadata": {},
     "output_type": "execute_result"
    }
   ],
   "source": [
    "master_data.head()"
   ]
  },
  {
   "cell_type": "markdown",
   "metadata": {},
   "source": [
    "<strong> Age Distribution </strong>"
   ]
  },
  {
   "cell_type": "code",
   "execution_count": 124,
   "metadata": {
    "scrolled": false
   },
   "outputs": [
    {
     "data": {
      "image/png": "[encoded data removed]",
      "text/plain": [
       "<Figure size 720x432 with 1 Axes>"
      ]
     },
     "metadata": {
      "needs_background": "light"
     },
     "output_type": "display_data"
    }
   ],
   "source": [
    "plt.figure(figsize=[10,6])\n",
    "sns.distplot(master_data.Age,kde=False,color='g')\n",
    "plt.title('Age Distribution of Users')\n",
    "plt.ylabel('Frequency')\n",
    "plt.xlabel('Age');\n",
    "plt.savefig('user_age_distribution.jpg')"
   ]
  },
  {
   "cell_type": "markdown",
   "metadata": {},
   "source": [
    "Most of the users are users between the ages of 25 and 34"
   ]
  },
  {
   "cell_type": "markdown",
   "metadata": {},
   "source": [
    "<strong>Overall Rating by Users </strong>"
   ]
  },
  {
   "cell_type": "code",
   "execution_count": 153,
   "metadata": {},
   "outputs": [
    {
     "data": {
      "image/png": "[encoded data removed]",
      "text/plain": [
       "<Figure size 936x432 with 2 Axes>"
      ]
     },
     "metadata": {
      "needs_background": "light"
     },
     "output_type": "display_data"
    }
   ],
   "source": [
    "fig,ax= plt.subplots(1,2,figsize=[13,6])\n",
    "pd.value_counts(master_data.Rating).sort_index().plot.pie(autopct='%.2f%%',labels=[1,2,3,4,5],ax=ax[0])\n",
    "#ax[0].legend(title='Ratings',loc=(1.,0.29))\n",
    "ax[0].set(ylabel= '')\n",
    "\n",
    "pd.value_counts(master_data.Rating).sort_index().plot(kind='bar',color='m',rot=0,ax=ax[1])\n",
    "ax[1].set(xlabel='Ratings', ylabel='Frequency')\n",
    "plt.tight_layout(pad=1.2)\n",
    "fig.suptitle('Overall User Ratings',ha='right',color='g',fontsize=15);\n",
    "plt.savefig('Overall_User_ratings.jpeg')"
   ]
  },
  {
   "cell_type": "markdown",
   "metadata": {},
   "source": [
    "From the overall ratings by users, we see that most of the users rated 4 for most of the movies, followed by 3 and then 5. The least rating is 1"
   ]
  },
  {
   "cell_type": "markdown",
   "metadata": {},
   "source": [
    "<strong>User rating of movie 'Toy Story'</strong>"
   ]
  },
  {
   "cell_type": "code",
   "execution_count": 17,
   "metadata": {},
   "outputs": [
    {
     "data": {
      "text/html": [
       "<div>\n",
       "<style scoped>\n",
       "    .dataframe tbody tr th:only-of-type {\n",
       "        vertical-align: middle;\n",
       "    }\n",
       "\n",
       "    .dataframe tbody tr th {\n",
       "        vertical-align: top;\n",
       "    }\n",
       "\n",
       "    .dataframe thead th {\n",
       "        text-align: right;\n",
       "    }\n",
       "</style>\n",
       "<table border=\"1\" class=\"dataframe\">\n",
       "  <thead>\n",
       "    <tr style=\"text-align: right;\">\n",
       "      <th></th>\n",
       "      <th>MovieId</th>\n",
       "      <th>Title</th>\n",
       "      <th>Genre</th>\n",
       "    </tr>\n",
       "  </thead>\n",
       "  <tbody>\n",
       "    <tr>\n",
       "      <td>0</td>\n",
       "      <td>1</td>\n",
       "      <td>Toy Story (1995)</td>\n",
       "      <td>Animation|Children's|Comedy</td>\n",
       "    </tr>\n",
       "    <tr>\n",
       "      <td>1</td>\n",
       "      <td>2</td>\n",
       "      <td>Jumanji (1995)</td>\n",
       "      <td>Adventure|Children's|Fantasy</td>\n",
       "    </tr>\n",
       "    <tr>\n",
       "      <td>2</td>\n",
       "      <td>3</td>\n",
       "      <td>Grumpier Old Men (1995)</td>\n",
       "      <td>Comedy|Romance</td>\n",
       "    </tr>\n",
       "    <tr>\n",
       "      <td>3</td>\n",
       "      <td>4</td>\n",
       "      <td>Waiting to Exhale (1995)</td>\n",
       "      <td>Comedy|Drama</td>\n",
       "    </tr>\n",
       "    <tr>\n",
       "      <td>4</td>\n",
       "      <td>5</td>\n",
       "      <td>Father of the Bride Part II (1995)</td>\n",
       "      <td>Comedy</td>\n",
       "    </tr>\n",
       "  </tbody>\n",
       "</table>\n",
       "</div>"
      ],
      "text/plain": [
       "   MovieId                               Title                         Genre\n",
       "0        1                    Toy Story (1995)   Animation|Children's|Comedy\n",
       "1        2                      Jumanji (1995)  Adventure|Children's|Fantasy\n",
       "2        3             Grumpier Old Men (1995)                Comedy|Romance\n",
       "3        4            Waiting to Exhale (1995)                  Comedy|Drama\n",
       "4        5  Father of the Bride Part II (1995)                        Comedy"
      ]
     },
     "execution_count": 17,
     "metadata": {},
     "output_type": "execute_result"
    }
   ],
   "source": [
    "movie_data.head() #getting the movie data"
   ]
  },
  {
   "cell_type": "code",
   "execution_count": 18,
   "metadata": {},
   "outputs": [],
   "source": [
    "user_toystory= master_data[master_data.MovieId.isin([1])] #getting Toy story data from the movie id"
   ]
  },
  {
   "cell_type": "code",
   "execution_count": 19,
   "metadata": {},
   "outputs": [
    {
     "data": {
      "text/html": [
       "<div>\n",
       "<style scoped>\n",
       "    .dataframe tbody tr th:only-of-type {\n",
       "        vertical-align: middle;\n",
       "    }\n",
       "\n",
       "    .dataframe tbody tr th {\n",
       "        vertical-align: top;\n",
       "    }\n",
       "\n",
       "    .dataframe thead th {\n",
       "        text-align: right;\n",
       "    }\n",
       "</style>\n",
       "<table border=\"1\" class=\"dataframe\">\n",
       "  <thead>\n",
       "    <tr style=\"text-align: right;\">\n",
       "      <th></th>\n",
       "      <th>UserId</th>\n",
       "      <th>MovieId</th>\n",
       "      <th>Rating</th>\n",
       "      <th>TimeStamp</th>\n",
       "      <th>Gender</th>\n",
       "      <th>Age</th>\n",
       "      <th>Occupation</th>\n",
       "      <th>Zipcode</th>\n",
       "      <th>Title</th>\n",
       "      <th>Genre</th>\n",
       "    </tr>\n",
       "  </thead>\n",
       "  <tbody>\n",
       "    <tr>\n",
       "      <td>40</td>\n",
       "      <td>1</td>\n",
       "      <td>1</td>\n",
       "      <td>5</td>\n",
       "      <td>2001-01-06 23:37:48</td>\n",
       "      <td>F</td>\n",
       "      <td>1</td>\n",
       "      <td>10</td>\n",
       "      <td>48067</td>\n",
       "      <td>Toy Story (1995)</td>\n",
       "      <td>Animation|Children's|Comedy</td>\n",
       "    </tr>\n",
       "    <tr>\n",
       "      <td>469</td>\n",
       "      <td>6</td>\n",
       "      <td>1</td>\n",
       "      <td>4</td>\n",
       "      <td>2000-12-31 04:30:08</td>\n",
       "      <td>F</td>\n",
       "      <td>50</td>\n",
       "      <td>9</td>\n",
       "      <td>55117</td>\n",
       "      <td>Toy Story (1995)</td>\n",
       "      <td>Animation|Children's|Comedy</td>\n",
       "    </tr>\n",
       "    <tr>\n",
       "      <td>581</td>\n",
       "      <td>8</td>\n",
       "      <td>1</td>\n",
       "      <td>4</td>\n",
       "      <td>2000-12-31 03:31:36</td>\n",
       "      <td>M</td>\n",
       "      <td>25</td>\n",
       "      <td>12</td>\n",
       "      <td>11413</td>\n",
       "      <td>Toy Story (1995)</td>\n",
       "      <td>Animation|Children's|Comedy</td>\n",
       "    </tr>\n",
       "    <tr>\n",
       "      <td>711</td>\n",
       "      <td>9</td>\n",
       "      <td>1</td>\n",
       "      <td>5</td>\n",
       "      <td>2000-12-31 01:25:52</td>\n",
       "      <td>M</td>\n",
       "      <td>25</td>\n",
       "      <td>17</td>\n",
       "      <td>61614</td>\n",
       "      <td>Toy Story (1995)</td>\n",
       "      <td>Animation|Children's|Comedy</td>\n",
       "    </tr>\n",
       "    <tr>\n",
       "      <td>837</td>\n",
       "      <td>10</td>\n",
       "      <td>1</td>\n",
       "      <td>5</td>\n",
       "      <td>2000-12-31 01:34:34</td>\n",
       "      <td>F</td>\n",
       "      <td>35</td>\n",
       "      <td>1</td>\n",
       "      <td>95370</td>\n",
       "      <td>Toy Story (1995)</td>\n",
       "      <td>Animation|Children's|Comedy</td>\n",
       "    </tr>\n",
       "  </tbody>\n",
       "</table>\n",
       "</div>"
      ],
      "text/plain": [
       "     UserId  MovieId  Rating           TimeStamp Gender  Age  Occupation  \\\n",
       "40        1        1       5 2001-01-06 23:37:48      F    1          10   \n",
       "469       6        1       4 2000-12-31 04:30:08      F   50           9   \n",
       "581       8        1       4 2000-12-31 03:31:36      M   25          12   \n",
       "711       9        1       5 2000-12-31 01:25:52      M   25          17   \n",
       "837      10        1       5 2000-12-31 01:34:34      F   35           1   \n",
       "\n",
       "    Zipcode             Title                        Genre  \n",
       "40    48067  Toy Story (1995)  Animation|Children's|Comedy  \n",
       "469   55117  Toy Story (1995)  Animation|Children's|Comedy  \n",
       "581   11413  Toy Story (1995)  Animation|Children's|Comedy  \n",
       "711   61614  Toy Story (1995)  Animation|Children's|Comedy  \n",
       "837   95370  Toy Story (1995)  Animation|Children's|Comedy  "
      ]
     },
     "execution_count": 19,
     "metadata": {},
     "output_type": "execute_result"
    }
   ],
   "source": [
    "user_toystory.head()"
   ]
  },
  {
   "cell_type": "code",
   "execution_count": 20,
   "metadata": {},
   "outputs": [
    {
     "data": {
      "text/html": [
       "<div>\n",
       "<style scoped>\n",
       "    .dataframe tbody tr th:only-of-type {\n",
       "        vertical-align: middle;\n",
       "    }\n",
       "\n",
       "    .dataframe tbody tr th {\n",
       "        vertical-align: top;\n",
       "    }\n",
       "\n",
       "    .dataframe thead th {\n",
       "        text-align: right;\n",
       "    }\n",
       "</style>\n",
       "<table border=\"1\" class=\"dataframe\">\n",
       "  <thead>\n",
       "    <tr style=\"text-align: right;\">\n",
       "      <th></th>\n",
       "      <th>Toy Story User ratings</th>\n",
       "    </tr>\n",
       "  </thead>\n",
       "  <tbody>\n",
       "    <tr>\n",
       "      <td>1</td>\n",
       "      <td>16</td>\n",
       "    </tr>\n",
       "    <tr>\n",
       "      <td>2</td>\n",
       "      <td>61</td>\n",
       "    </tr>\n",
       "    <tr>\n",
       "      <td>3</td>\n",
       "      <td>345</td>\n",
       "    </tr>\n",
       "    <tr>\n",
       "      <td>4</td>\n",
       "      <td>835</td>\n",
       "    </tr>\n",
       "    <tr>\n",
       "      <td>5</td>\n",
       "      <td>820</td>\n",
       "    </tr>\n",
       "  </tbody>\n",
       "</table>\n",
       "</div>"
      ],
      "text/plain": [
       "   Toy Story User ratings\n",
       "1                      16\n",
       "2                      61\n",
       "3                     345\n",
       "4                     835\n",
       "5                     820"
      ]
     },
     "execution_count": 20,
     "metadata": {},
     "output_type": "execute_result"
    }
   ],
   "source": [
    "user_toystory.Rating.value_counts().sort_index().to_frame(name='Toy Story User ratings')"
   ]
  },
  {
   "cell_type": "code",
   "execution_count": 118,
   "metadata": {
    "scrolled": false
   },
   "outputs": [
    {
     "data": {
      "image/png": "[encoded data removed]",
      "text/plain": [
       "<Figure size 936x360 with 2 Axes>"
      ]
     },
     "metadata": {
      "needs_background": "light"
     },
     "output_type": "display_data"
    }
   ],
   "source": [
    "fig,ax= plt.subplots(1,2,figsize=[13,5])\n",
    "ax[0].pie(user_toystory.Rating.value_counts().sort_index(), autopct='%.2f%%',labels=[1,2,3,4,5],explode=(0.3,0.3,0,0,0))\n",
    "ax[0].legend(loc=[1.2,0.247],ncol=1,title='Ratings')\n",
    "\n",
    "sns.countplot('Rating',data=user_toystory,ax=ax[1])\n",
    "ax[1].set(xlabel='User Ratings', ylabel='Frequency')\n",
    "fig.tight_layout(pad=2)\n",
    "\n",
    "fig.suptitle('User Ratings Distribution for the movie Toy Story',ha='right',color='g',fontsize=16);\n",
    "plt.savefig('user_toy_story_rating.jpeg')"
   ]
  },
  {
   "cell_type": "markdown",
   "metadata": {},
   "source": [
    "<p> From the charts above we see that most of the users that rated Toy Story rated it as 4 or 5.</p>"
   ]
  },
  {
   "cell_type": "markdown",
   "metadata": {},
   "source": [
    "<strong> Viewership of Toy Story by Age group</strong>"
   ]
  },
  {
   "cell_type": "code",
   "execution_count": 156,
   "metadata": {
    "scrolled": false
   },
   "outputs": [
    {
     "data": {
      "image/png": "[encoded data removed]",
      "text/plain": [
       "<Figure size 864x504 with 1 Axes>"
      ]
     },
     "metadata": {
      "needs_background": "light"
     },
     "output_type": "display_data"
    }
   ],
   "source": [
    "plt.figure(figsize=[12,7])\n",
    "sns.countplot('Rating', hue='Age', data=user_toystory)\n",
    "plt.title('Distribution of Toy Story viewership by Age Group')\n",
    "plt.xlabel('User Ratings')\n",
    "plt.ylabel('Frequency')\n",
    "plt.ylim((0,350))\n",
    "plt.legend(loc=(1.02,0.23), title='Age Group');\n",
    "plt.savefig('Toy_story_viewership_by_age_group.png')"
   ]
  },
  {
   "cell_type": "markdown",
   "metadata": {},
   "source": [
    "<p> From the chart, we see that most of the users rated the movie 'Toy Story' as 4 or 5, with most of those ratings from users between the Ages of 25 and 34.</p>"
   ]
  },
  {
   "cell_type": "markdown",
   "metadata": {},
   "source": [
    "<b> Top 25 Movies bu viewership Ratings </b>"
   ]
  },
  {
   "cell_type": "code",
   "execution_count": 23,
   "metadata": {},
   "outputs": [],
   "source": [
    "top_25_movies_by_user_ratings = \\\n",
    "master_data.groupby('Title').agg({\\\n",
    "                                  'Rating':'sum'\\\n",
    "                                 }).sort_values(by='Rating',ascending=False).reset_index()"
   ]
  },
  {
   "cell_type": "code",
   "execution_count": 171,
   "metadata": {},
   "outputs": [],
   "source": [
    "top_25_movies_by_user_ratings[:25].to_csv('top_25_movies_by_user_ratings.csv')"
   ]
  },
  {
   "cell_type": "code",
   "execution_count": 189,
   "metadata": {
    "scrolled": false
   },
   "outputs": [
    {
     "data": {
      "image/png": "[encoded data removed]",
      "text/plain": [
       "<Figure size 864x432 with 1 Axes>"
      ]
     },
     "metadata": {
      "needs_background": "light"
     },
     "output_type": "display_data"
    }
   ],
   "source": [
    "plt.figure(figsize=[12,6])\n",
    "sns.barplot('Title','Rating',data=top_25_movies_by_user_ratings[:25],palette='Set2')\n",
    "plt.xticks(np.arange(25),range(25))\n",
    "plt.title('Top 25 Movies by Viewership Ratings')\n",
    "plt.xlim((-1,25));\n",
    "plt.savefig('Top_25_Movies_by_Viewership_Ratings.jpg')"
   ]
  },
  {
   "cell_type": "markdown",
   "metadata": {},
   "source": [
    "<strong>Movie rating bu userid= 2696</strong>"
   ]
  },
  {
   "cell_type": "code",
   "execution_count": 26,
   "metadata": {},
   "outputs": [],
   "source": [
    "rating_by_user_2696 = master_data[master_data.UserId == 2696][['UserId','Rating']].reset_index(drop=True)"
   ]
  },
  {
   "cell_type": "code",
   "execution_count": 190,
   "metadata": {},
   "outputs": [
    {
     "data": {
      "image/png": "[encoded data removed]",
      "text/plain": [
       "<Figure size 432x288 with 1 Axes>"
      ]
     },
     "metadata": {
      "needs_background": "light"
     },
     "output_type": "display_data"
    }
   ],
   "source": [
    "rating_by_user_2696.Rating.value_counts().sort_index().plot.bar(rot=0,color='#5ae42d')\n",
    "plt.title('Movie Ratings by Userid 2696')\n",
    "plt.xlabel('Ratings')\n",
    "plt.ylabel('Rating counts')\n",
    "plt.savefig('Movie_Ratings_by_Userid_2696.jpg');"
   ]
  },
  {
   "cell_type": "markdown",
   "metadata": {},
   "source": [
    "<h4>Feature Engineering</h4>"
   ]
  },
  {
   "cell_type": "markdown",
   "metadata": {},
   "source": [
    "unique Genres"
   ]
  },
  {
   "cell_type": "code",
   "execution_count": 71,
   "metadata": {},
   "outputs": [],
   "source": [
    "master_data['Genre'] = master_data.Genre.apply(lambda x: x.split('|'))"
   ]
  },
  {
   "cell_type": "code",
   "execution_count": 72,
   "metadata": {
    "scrolled": false
   },
   "outputs": [
    {
     "name": "stdout",
     "output_type": "stream",
     "text": [
      "Wall time: 608 ms\n"
     ]
    }
   ],
   "source": [
    "%%time\n",
    "genre_list= []\n",
    "for genres in master_data.Genre.values:\n",
    "    for genre in genres:\n",
    "        genre_list.append(genre)"
   ]
  },
  {
   "cell_type": "code",
   "execution_count": 73,
   "metadata": {
    "scrolled": false
   },
   "outputs": [],
   "source": [
    "unique_genre = set(genre_list)"
   ]
  },
  {
   "cell_type": "code",
   "execution_count": 74,
   "metadata": {},
   "outputs": [
    {
     "name": "stdout",
     "output_type": "stream",
     "text": [
      "The unique Genres are: [{\"Children's\", 'Romance', 'Action', 'Adventure', 'Sci-Fi', 'Western', 'Film-Noir', 'Documentary', 'Comedy', 'Fantasy', 'War', 'Crime', 'Horror', 'Thriller', 'Musical', 'Drama', 'Mystery', 'Animation'}]\n"
     ]
    }
   ],
   "source": [
    "print('The unique Genres are: [{}]'.format(unique_genre))"
   ]
  },
  {
   "cell_type": "markdown",
   "metadata": {},
   "source": [
    "<b>One hot encoding of unique genres</b>"
   ]
  },
  {
   "cell_type": "code",
   "execution_count": 81,
   "metadata": {},
   "outputs": [
    {
     "name": "stdout",
     "output_type": "stream",
     "text": [
      "Wall time: 9.66 s\n"
     ]
    }
   ],
   "source": [
    "%%time\n",
    "for genre in unique_genre:\n",
    "    master_data[genre] = master_data.Genre.apply(lambda x: 1 if genre in x else 0)"
   ]
  },
  {
   "cell_type": "code",
   "execution_count": 82,
   "metadata": {},
   "outputs": [
    {
     "data": {
      "text/html": [
       "<div>\n",
       "<style scoped>\n",
       "    .dataframe tbody tr th:only-of-type {\n",
       "        vertical-align: middle;\n",
       "    }\n",
       "\n",
       "    .dataframe tbody tr th {\n",
       "        vertical-align: top;\n",
       "    }\n",
       "\n",
       "    .dataframe thead th {\n",
       "        text-align: right;\n",
       "    }\n",
       "</style>\n",
       "<table border=\"1\" class=\"dataframe\">\n",
       "  <thead>\n",
       "    <tr style=\"text-align: right;\">\n",
       "      <th></th>\n",
       "      <th>UserId</th>\n",
       "      <th>MovieId</th>\n",
       "      <th>Rating</th>\n",
       "      <th>TimeStamp</th>\n",
       "      <th>Gender</th>\n",
       "      <th>Age</th>\n",
       "      <th>Occupation</th>\n",
       "      <th>Zipcode</th>\n",
       "      <th>Title</th>\n",
       "      <th>Genre</th>\n",
       "      <th>Children's</th>\n",
       "      <th>Romance</th>\n",
       "      <th>Action</th>\n",
       "      <th>Adventure</th>\n",
       "      <th>Sci-Fi</th>\n",
       "      <th>Western</th>\n",
       "      <th>Film-Noir</th>\n",
       "      <th>Documentary</th>\n",
       "      <th>Comedy</th>\n",
       "      <th>Fantasy</th>\n",
       "      <th>War</th>\n",
       "      <th>Crime</th>\n",
       "      <th>Horror</th>\n",
       "      <th>Thriller</th>\n",
       "      <th>Musical</th>\n",
       "      <th>Drama</th>\n",
       "      <th>Mystery</th>\n",
       "      <th>Animation</th>\n",
       "    </tr>\n",
       "  </thead>\n",
       "  <tbody>\n",
       "    <tr>\n",
       "      <td>0</td>\n",
       "      <td>1</td>\n",
       "      <td>1193</td>\n",
       "      <td>5</td>\n",
       "      <td>2000-12-31 22:12:40</td>\n",
       "      <td>F</td>\n",
       "      <td>1</td>\n",
       "      <td>10</td>\n",
       "      <td>48067</td>\n",
       "      <td>One Flew Over the Cuckoo's Nest (1975)</td>\n",
       "      <td>[Drama]</td>\n",
       "      <td>0</td>\n",
       "      <td>0</td>\n",
       "      <td>0</td>\n",
       "      <td>0</td>\n",
       "      <td>0</td>\n",
       "      <td>0</td>\n",
       "      <td>0</td>\n",
       "      <td>0</td>\n",
       "      <td>0</td>\n",
       "      <td>0</td>\n",
       "      <td>0</td>\n",
       "      <td>0</td>\n",
       "      <td>0</td>\n",
       "      <td>0</td>\n",
       "      <td>0</td>\n",
       "      <td>1</td>\n",
       "      <td>0</td>\n",
       "      <td>0</td>\n",
       "    </tr>\n",
       "    <tr>\n",
       "      <td>1</td>\n",
       "      <td>1</td>\n",
       "      <td>661</td>\n",
       "      <td>3</td>\n",
       "      <td>2000-12-31 22:35:09</td>\n",
       "      <td>F</td>\n",
       "      <td>1</td>\n",
       "      <td>10</td>\n",
       "      <td>48067</td>\n",
       "      <td>James and the Giant Peach (1996)</td>\n",
       "      <td>[Animation, Children's, Musical]</td>\n",
       "      <td>1</td>\n",
       "      <td>0</td>\n",
       "      <td>0</td>\n",
       "      <td>0</td>\n",
       "      <td>0</td>\n",
       "      <td>0</td>\n",
       "      <td>0</td>\n",
       "      <td>0</td>\n",
       "      <td>0</td>\n",
       "      <td>0</td>\n",
       "      <td>0</td>\n",
       "      <td>0</td>\n",
       "      <td>0</td>\n",
       "      <td>0</td>\n",
       "      <td>1</td>\n",
       "      <td>0</td>\n",
       "      <td>0</td>\n",
       "      <td>1</td>\n",
       "    </tr>\n",
       "  </tbody>\n",
       "</table>\n",
       "</div>"
      ],
      "text/plain": [
       "   UserId  MovieId  Rating           TimeStamp Gender  Age  Occupation  \\\n",
       "0       1     1193       5 2000-12-31 22:12:40      F    1          10   \n",
       "1       1      661       3 2000-12-31 22:35:09      F    1          10   \n",
       "\n",
       "  Zipcode                                   Title  \\\n",
       "0   48067  One Flew Over the Cuckoo's Nest (1975)   \n",
       "1   48067        James and the Giant Peach (1996)   \n",
       "\n",
       "                              Genre  Children's  Romance  Action  Adventure  \\\n",
       "0                           [Drama]           0        0       0          0   \n",
       "1  [Animation, Children's, Musical]           1        0       0          0   \n",
       "\n",
       "   Sci-Fi  Western  Film-Noir  Documentary  Comedy  Fantasy  War  Crime  \\\n",
       "0       0        0          0            0       0        0    0      0   \n",
       "1       0        0          0            0       0        0    0      0   \n",
       "\n",
       "   Horror  Thriller  Musical  Drama  Mystery  Animation  \n",
       "0       0         0        0      1        0          0  \n",
       "1       0         0        1      0        0          1  "
      ]
     },
     "execution_count": 82,
     "metadata": {},
     "output_type": "execute_result"
    }
   ],
   "source": [
    "master_data.head(2)"
   ]
  },
  {
   "cell_type": "markdown",
   "metadata": {},
   "source": [
    "<h5>Counting Genres using Counter and defaultdict </h5>"
   ]
  },
  {
   "cell_type": "code",
   "execution_count": 17,
   "metadata": {},
   "outputs": [],
   "source": [
    "from collections import Counter, defaultdict"
   ]
  },
  {
   "cell_type": "code",
   "execution_count": 18,
   "metadata": {},
   "outputs": [],
   "source": [
    "genre_count = Counter(genre_list)"
   ]
  },
  {
   "cell_type": "code",
   "execution_count": 19,
   "metadata": {},
   "outputs": [
    {
     "data": {
      "text/plain": [
       "[('Comedy', 356580),\n",
       " ('Drama', 354529),\n",
       " ('Action', 257457),\n",
       " ('Thriller', 189680),\n",
       " ('Sci-Fi', 157294)]"
      ]
     },
     "execution_count": 19,
     "metadata": {},
     "output_type": "execute_result"
    }
   ],
   "source": [
    "genre_count.most_common(5) #most common genre"
   ]
  },
  {
   "cell_type": "code",
   "execution_count": 20,
   "metadata": {},
   "outputs": [],
   "source": [
    "genre_dict = defaultdict(int)\n",
    "for genre in genre_list:\n",
    "    if genre in genre_dict:\n",
    "        genre_dict[genre] +=1\n",
    "    else:\n",
    "        genre_dict[genre] = 1"
   ]
  },
  {
   "cell_type": "code",
   "execution_count": 21,
   "metadata": {},
   "outputs": [
    {
     "data": {
      "text/plain": [
       "defaultdict(int,\n",
       "            {'Drama': 354529,\n",
       "             'Animation': 43293,\n",
       "             \"Children's\": 72186,\n",
       "             'Musical': 41533,\n",
       "             'Romance': 147523,\n",
       "             'Comedy': 356580,\n",
       "             'Action': 257457,\n",
       "             'Adventure': 133953,\n",
       "             'Fantasy': 36301,\n",
       "             'Sci-Fi': 157294,\n",
       "             'War': 68527,\n",
       "             'Thriller': 189680,\n",
       "             'Crime': 79541,\n",
       "             'Mystery': 40178,\n",
       "             'Western': 20683,\n",
       "             'Horror': 76386,\n",
       "             'Film-Noir': 18261,\n",
       "             'Documentary': 7910})"
      ]
     },
     "execution_count": 21,
     "metadata": {},
     "output_type": "execute_result"
    }
   ],
   "source": [
    "genre_dict"
   ]
  },
  {
   "cell_type": "code",
   "execution_count": 22,
   "metadata": {},
   "outputs": [],
   "source": [
    "genres = pd.Series(np.array(genre_list)).to_frame(name='Genres')"
   ]
  },
  {
   "cell_type": "code",
   "execution_count": 23,
   "metadata": {},
   "outputs": [
    {
     "data": {
      "image/png": "[encoded data removed]",
      "text/plain": [
       "<Figure size 864x360 with 1 Axes>"
      ]
     },
     "metadata": {
      "needs_background": "light"
     },
     "output_type": "display_data"
    }
   ],
   "source": [
    "plt.figure(figsize=[12,5])\n",
    "sns.countplot('Genres',data=genres,palette='Set2')\n",
    "plt.xticks(rotation=30)\n",
    "plt.xlim(-1,18)\n",
    "plt.title('Frequency Distribution of the Unique Genre')\n",
    "plt.ylabel('Frequency');\n",
    "plt.savefig('Unique_genre_Counts.png')"
   ]
  },
  {
   "cell_type": "code",
   "execution_count": 24,
   "metadata": {},
   "outputs": [
    {
     "data": {
      "text/plain": [
       "(1000209, 28)"
      ]
     },
     "execution_count": 24,
     "metadata": {},
     "output_type": "execute_result"
    }
   ],
   "source": [
    "master_data.shape"
   ]
  },
  {
   "cell_type": "markdown",
   "metadata": {},
   "source": [
    "<b>Machine Learning</b>"
   ]
  },
  {
   "cell_type": "code",
   "execution_count": 42,
   "metadata": {},
   "outputs": [
    {
     "data": {
      "text/plain": [
       "Index(['UserId', 'MovieId', 'Rating', 'TimeStamp', 'Gender', 'Age',\n",
       "       'Occupation', 'Zipcode', 'Title', 'Genre', 'Crime', 'Western',\n",
       "       'Film-Noir', 'Fantasy', 'Adventure', 'Sci-Fi', 'Romance', 'Animation',\n",
       "       'Children's', 'Musical', 'Comedy', 'Thriller', 'Horror', 'Documentary',\n",
       "       'War', 'Mystery', 'Action', 'Drama'],\n",
       "      dtype='object')"
      ]
     },
     "execution_count": 42,
     "metadata": {},
     "output_type": "execute_result"
    }
   ],
   "source": [
    "master_data.columns"
   ]
  },
  {
   "cell_type": "code",
   "execution_count": 67,
   "metadata": {},
   "outputs": [
    {
     "data": {
      "text/html": [
       "<div>\n",
       "<style scoped>\n",
       "    .dataframe tbody tr th:only-of-type {\n",
       "        vertical-align: middle;\n",
       "    }\n",
       "\n",
       "    .dataframe tbody tr th {\n",
       "        vertical-align: top;\n",
       "    }\n",
       "\n",
       "    .dataframe thead th {\n",
       "        text-align: right;\n",
       "    }\n",
       "</style>\n",
       "<table border=\"1\" class=\"dataframe\">\n",
       "  <thead>\n",
       "    <tr style=\"text-align: right;\">\n",
       "      <th></th>\n",
       "      <th>UserId</th>\n",
       "      <th>MovieId</th>\n",
       "      <th>Rating</th>\n",
       "      <th>TimeStamp</th>\n",
       "      <th>Gender</th>\n",
       "      <th>Age</th>\n",
       "      <th>Occupation</th>\n",
       "      <th>Zipcode</th>\n",
       "      <th>Title</th>\n",
       "      <th>Genre</th>\n",
       "      <th>Children's</th>\n",
       "      <th>Romance</th>\n",
       "      <th>Action</th>\n",
       "      <th>Adventure</th>\n",
       "      <th>Sci-Fi</th>\n",
       "      <th>Western</th>\n",
       "      <th>Film-Noir</th>\n",
       "      <th>Documentary</th>\n",
       "      <th>Comedy</th>\n",
       "      <th>Fantasy</th>\n",
       "      <th>War</th>\n",
       "      <th>Crime</th>\n",
       "      <th>Horror</th>\n",
       "      <th>Thriller</th>\n",
       "      <th>Musical</th>\n",
       "      <th>Drama</th>\n",
       "      <th>Mystery</th>\n",
       "      <th>Animation</th>\n",
       "      <th>Rating_mean_by_age</th>\n",
       "      <th>Rating_mean_by_movieid</th>\n",
       "      <th>Rating_mean_per_movie_user</th>\n",
       "      <th>Rating_mean_per_movie_by_age</th>\n",
       "      <th>rating_greater_than_mean_age_rating</th>\n",
       "      <th>rating_greater_than_mean_movie_rating_per_user</th>\n",
       "      <th>rating_greater_than_mean_movie_rating</th>\n",
       "      <th>rating_greater_than_mean_movie_rating_by_age</th>\n",
       "      <th>Rating_mean_by_age</th>\n",
       "      <th>Rating_mean_by_movieid</th>\n",
       "      <th>Rating_mean_per_movie_user</th>\n",
       "      <th>Rating_mean_per_movie_by_age</th>\n",
       "    </tr>\n",
       "  </thead>\n",
       "  <tbody>\n",
       "    <tr>\n",
       "      <td>0</td>\n",
       "      <td>1</td>\n",
       "      <td>1193</td>\n",
       "      <td>5</td>\n",
       "      <td>2000-12-31 22:12:40</td>\n",
       "      <td>F</td>\n",
       "      <td>1</td>\n",
       "      <td>10</td>\n",
       "      <td>48067</td>\n",
       "      <td>One Flew Over the Cuckoo's Nest (1975)</td>\n",
       "      <td>[Drama]</td>\n",
       "      <td>0</td>\n",
       "      <td>0</td>\n",
       "      <td>0</td>\n",
       "      <td>0</td>\n",
       "      <td>0</td>\n",
       "      <td>0</td>\n",
       "      <td>0</td>\n",
       "      <td>0</td>\n",
       "      <td>0</td>\n",
       "      <td>0</td>\n",
       "      <td>0</td>\n",
       "      <td>0</td>\n",
       "      <td>0</td>\n",
       "      <td>0</td>\n",
       "      <td>0</td>\n",
       "      <td>1</td>\n",
       "      <td>0</td>\n",
       "      <td>0</td>\n",
       "      <td>3.54952</td>\n",
       "      <td>4.390725</td>\n",
       "      <td>5</td>\n",
       "      <td>4.222222</td>\n",
       "      <td>1</td>\n",
       "      <td>1</td>\n",
       "      <td>1</td>\n",
       "      <td>1</td>\n",
       "      <td>3.54952</td>\n",
       "      <td>4.390725</td>\n",
       "      <td>5</td>\n",
       "      <td>4.222222</td>\n",
       "    </tr>\n",
       "    <tr>\n",
       "      <td>1</td>\n",
       "      <td>19</td>\n",
       "      <td>1193</td>\n",
       "      <td>5</td>\n",
       "      <td>2001-02-21 04:48:56</td>\n",
       "      <td>M</td>\n",
       "      <td>1</td>\n",
       "      <td>10</td>\n",
       "      <td>48073</td>\n",
       "      <td>One Flew Over the Cuckoo's Nest (1975)</td>\n",
       "      <td>[Drama]</td>\n",
       "      <td>0</td>\n",
       "      <td>0</td>\n",
       "      <td>0</td>\n",
       "      <td>0</td>\n",
       "      <td>0</td>\n",
       "      <td>0</td>\n",
       "      <td>0</td>\n",
       "      <td>0</td>\n",
       "      <td>0</td>\n",
       "      <td>0</td>\n",
       "      <td>0</td>\n",
       "      <td>0</td>\n",
       "      <td>0</td>\n",
       "      <td>0</td>\n",
       "      <td>0</td>\n",
       "      <td>1</td>\n",
       "      <td>0</td>\n",
       "      <td>0</td>\n",
       "      <td>3.54952</td>\n",
       "      <td>4.390725</td>\n",
       "      <td>5</td>\n",
       "      <td>4.222222</td>\n",
       "      <td>1</td>\n",
       "      <td>1</td>\n",
       "      <td>1</td>\n",
       "      <td>1</td>\n",
       "      <td>3.54952</td>\n",
       "      <td>4.390725</td>\n",
       "      <td>5</td>\n",
       "      <td>4.222222</td>\n",
       "    </tr>\n",
       "  </tbody>\n",
       "</table>\n",
       "</div>"
      ],
      "text/plain": [
       "   UserId  MovieId  Rating           TimeStamp Gender  Age  Occupation  \\\n",
       "0       1     1193       5 2000-12-31 22:12:40      F    1          10   \n",
       "1      19     1193       5 2001-02-21 04:48:56      M    1          10   \n",
       "\n",
       "  Zipcode                                   Title    Genre  Children's  \\\n",
       "0   48067  One Flew Over the Cuckoo's Nest (1975)  [Drama]           0   \n",
       "1   48073  One Flew Over the Cuckoo's Nest (1975)  [Drama]           0   \n",
       "\n",
       "   Romance  Action  Adventure  Sci-Fi  Western  Film-Noir  Documentary  \\\n",
       "0        0       0          0       0        0          0            0   \n",
       "1        0       0          0       0        0          0            0   \n",
       "\n",
       "   Comedy  Fantasy  War  Crime  Horror  Thriller  Musical  Drama  Mystery  \\\n",
       "0       0        0    0      0       0         0        0      1        0   \n",
       "1       0        0    0      0       0         0        0      1        0   \n",
       "\n",
       "   Animation  Rating_mean_by_age  Rating_mean_by_movieid  \\\n",
       "0          0             3.54952                4.390725   \n",
       "1          0             3.54952                4.390725   \n",
       "\n",
       "   Rating_mean_per_movie_user  Rating_mean_per_movie_by_age  \\\n",
       "0                           5                      4.222222   \n",
       "1                           5                      4.222222   \n",
       "\n",
       "   rating_greater_than_mean_age_rating  \\\n",
       "0                                    1   \n",
       "1                                    1   \n",
       "\n",
       "   rating_greater_than_mean_movie_rating_per_user  \\\n",
       "0                                               1   \n",
       "1                                               1   \n",
       "\n",
       "   rating_greater_than_mean_movie_rating  \\\n",
       "0                                      1   \n",
       "1                                      1   \n",
       "\n",
       "   rating_greater_than_mean_movie_rating_by_age  Rating_mean_by_age  \\\n",
       "0                                             1             3.54952   \n",
       "1                                             1             3.54952   \n",
       "\n",
       "   Rating_mean_by_movieid  Rating_mean_per_movie_user  \\\n",
       "0                4.390725                           5   \n",
       "1                4.390725                           5   \n",
       "\n",
       "   Rating_mean_per_movie_by_age  \n",
       "0                      4.222222  \n",
       "1                      4.222222  "
      ]
     },
     "execution_count": 67,
     "metadata": {},
     "output_type": "execute_result"
    }
   ],
   "source": [
    "master_data.head(2)"
   ]
  },
  {
   "cell_type": "raw",
   "metadata": {},
   "source": [
    "master_data.groupby(['Title','MovieId','UserId'])[['Rating']].mean()"
   ]
  },
  {
   "cell_type": "markdown",
   "metadata": {},
   "source": [
    "<b>FEATURE ENGINERRING</b>"
   ]
  },
  {
   "cell_type": "markdown",
   "metadata": {},
   "source": [
    "WE WILL BE GENERATING NEW FEATURES FROM THE AVAILABLE PREDICTORS\n",
    "1. THE MEAN USER RATINGS FOR A PARTICULAR MOVIE\n",
    "2. THE MEAN RATING BY AN AGE GROUP\n",
    "3. THE MEAN RATING FOR A MOVIE BY A PARTICULAR AGE GROUP"
   ]
  },
  {
   "cell_type": "code",
   "execution_count": 85,
   "metadata": {},
   "outputs": [],
   "source": [
    "mean_user_rating_per_movie = master_data.groupby('MovieId')[['Rating']].mean()\n",
    "mean_rating_by_age_group = master_data.groupby('Age')[['Rating']].mean()\n",
    "mean_rating_per_movie_per_age = master_data.groupby(['MovieId','Age'])[['Rating']].mean()"
   ]
  },
  {
   "cell_type": "code",
   "execution_count": 86,
   "metadata": {},
   "outputs": [],
   "source": [
    "master_data = pd.merge(master_data,mean_rating_by_age_group,on='Age',suffixes=['','_mean_by_age'])\n",
    "master_data = pd.merge(master_data,mean_rating_per_movie, on='MovieId',suffixes=['','_mean_by_movieid'])\n",
    "master_data = pd.merge(master_data,mean_rating_per_movie_per_age, on=['Age','MovieId'],suffixes=['','_mean_per_movie_by_age'])"
   ]
  },
  {
   "cell_type": "markdown",
   "metadata": {},
   "source": [
    "For those new features generated, we will be binning them by giving a value of 1 if the rating given by a user for a particular movie is greater than any of those features and a value of 0 if rating isn't"
   ]
  },
  {
   "cell_type": "raw",
   "metadata": {},
   "source": [
    "master_data.head()"
   ]
  },
  {
   "cell_type": "code",
   "execution_count": 87,
   "metadata": {},
   "outputs": [],
   "source": [
    "master_data['rating_greater_than_mean_age_rating']= \\\n",
    "(master_data.Rating >= master_data.Rating_mean_by_age).astype(int)\n",
    "\n",
    "master_data['rating_greater_than_mean_movie_rating']=\\\n",
    "(master_data.Rating >= master_data.Rating_mean_by_movieid).astype(int)\n",
    "\n",
    "master_data['rating_greater_than_mean_movie_rating_by_age']=\\\n",
    "(master_data.Rating >= master_data.Rating_mean_per_movie_by_age).astype(int)"
   ]
  },
  {
   "cell_type": "code",
   "execution_count": 88,
   "metadata": {},
   "outputs": [],
   "source": [
    "cols_to_drop = ['UserId','MovieId','TimeStamp','Gender','Zipcode','Title','Genre','Occupation']"
   ]
  },
  {
   "cell_type": "code",
   "execution_count": 89,
   "metadata": {},
   "outputs": [],
   "source": [
    "age_bins = {1:1,18:2,25:3,35:4,45:5,50:6,56:7}\n",
    "master_data['Age'] = master_data.Age.map(age_bins)"
   ]
  },
  {
   "cell_type": "code",
   "execution_count": 90,
   "metadata": {},
   "outputs": [],
   "source": [
    "master_data_copy = master_data.copy()"
   ]
  },
  {
   "cell_type": "raw",
   "metadata": {},
   "source": [
    "master_data_copy = pd.get_dummies(master_data_copy, columns= ['Occupation'])"
   ]
  },
  {
   "cell_type": "code",
   "execution_count": 91,
   "metadata": {},
   "outputs": [],
   "source": [
    "master_data_copy.drop(cols_to_drop,axis=1,inplace=True)"
   ]
  },
  {
   "cell_type": "code",
   "execution_count": 92,
   "metadata": {},
   "outputs": [
    {
     "data": {
      "text/html": [
       "<div>\n",
       "<style scoped>\n",
       "    .dataframe tbody tr th:only-of-type {\n",
       "        vertical-align: middle;\n",
       "    }\n",
       "\n",
       "    .dataframe tbody tr th {\n",
       "        vertical-align: top;\n",
       "    }\n",
       "\n",
       "    .dataframe thead th {\n",
       "        text-align: right;\n",
       "    }\n",
       "</style>\n",
       "<table border=\"1\" class=\"dataframe\">\n",
       "  <thead>\n",
       "    <tr style=\"text-align: right;\">\n",
       "      <th></th>\n",
       "      <th>Rating</th>\n",
       "      <th>Age</th>\n",
       "      <th>Children's</th>\n",
       "      <th>Romance</th>\n",
       "      <th>Action</th>\n",
       "      <th>Adventure</th>\n",
       "      <th>Sci-Fi</th>\n",
       "      <th>Western</th>\n",
       "      <th>Film-Noir</th>\n",
       "      <th>Documentary</th>\n",
       "      <th>Comedy</th>\n",
       "      <th>Fantasy</th>\n",
       "      <th>War</th>\n",
       "      <th>Crime</th>\n",
       "      <th>Horror</th>\n",
       "      <th>Thriller</th>\n",
       "      <th>Musical</th>\n",
       "      <th>Drama</th>\n",
       "      <th>Mystery</th>\n",
       "      <th>Animation</th>\n",
       "      <th>Rating_mean_by_age</th>\n",
       "      <th>Rating_mean_by_movieid</th>\n",
       "      <th>Rating_mean_per_movie_by_age</th>\n",
       "      <th>rating_greater_than_mean_age_rating</th>\n",
       "      <th>rating_greater_than_mean_movie_rating</th>\n",
       "      <th>rating_greater_than_mean_movie_rating_by_age</th>\n",
       "    </tr>\n",
       "  </thead>\n",
       "  <tbody>\n",
       "    <tr>\n",
       "      <td>0</td>\n",
       "      <td>5</td>\n",
       "      <td>1</td>\n",
       "      <td>0</td>\n",
       "      <td>0</td>\n",
       "      <td>0</td>\n",
       "      <td>0</td>\n",
       "      <td>0</td>\n",
       "      <td>0</td>\n",
       "      <td>0</td>\n",
       "      <td>0</td>\n",
       "      <td>0</td>\n",
       "      <td>0</td>\n",
       "      <td>0</td>\n",
       "      <td>0</td>\n",
       "      <td>0</td>\n",
       "      <td>0</td>\n",
       "      <td>0</td>\n",
       "      <td>1</td>\n",
       "      <td>0</td>\n",
       "      <td>0</td>\n",
       "      <td>3.54952</td>\n",
       "      <td>4.390725</td>\n",
       "      <td>4.222222</td>\n",
       "      <td>1</td>\n",
       "      <td>1</td>\n",
       "      <td>1</td>\n",
       "    </tr>\n",
       "    <tr>\n",
       "      <td>1</td>\n",
       "      <td>5</td>\n",
       "      <td>1</td>\n",
       "      <td>0</td>\n",
       "      <td>0</td>\n",
       "      <td>0</td>\n",
       "      <td>0</td>\n",
       "      <td>0</td>\n",
       "      <td>0</td>\n",
       "      <td>0</td>\n",
       "      <td>0</td>\n",
       "      <td>0</td>\n",
       "      <td>0</td>\n",
       "      <td>0</td>\n",
       "      <td>0</td>\n",
       "      <td>0</td>\n",
       "      <td>0</td>\n",
       "      <td>0</td>\n",
       "      <td>1</td>\n",
       "      <td>0</td>\n",
       "      <td>0</td>\n",
       "      <td>3.54952</td>\n",
       "      <td>4.390725</td>\n",
       "      <td>4.222222</td>\n",
       "      <td>1</td>\n",
       "      <td>1</td>\n",
       "      <td>1</td>\n",
       "    </tr>\n",
       "    <tr>\n",
       "      <td>2</td>\n",
       "      <td>2</td>\n",
       "      <td>1</td>\n",
       "      <td>0</td>\n",
       "      <td>0</td>\n",
       "      <td>0</td>\n",
       "      <td>0</td>\n",
       "      <td>0</td>\n",
       "      <td>0</td>\n",
       "      <td>0</td>\n",
       "      <td>0</td>\n",
       "      <td>0</td>\n",
       "      <td>0</td>\n",
       "      <td>0</td>\n",
       "      <td>0</td>\n",
       "      <td>0</td>\n",
       "      <td>0</td>\n",
       "      <td>0</td>\n",
       "      <td>1</td>\n",
       "      <td>0</td>\n",
       "      <td>0</td>\n",
       "      <td>3.54952</td>\n",
       "      <td>4.390725</td>\n",
       "      <td>4.222222</td>\n",
       "      <td>0</td>\n",
       "      <td>0</td>\n",
       "      <td>0</td>\n",
       "    </tr>\n",
       "    <tr>\n",
       "      <td>3</td>\n",
       "      <td>4</td>\n",
       "      <td>1</td>\n",
       "      <td>0</td>\n",
       "      <td>0</td>\n",
       "      <td>0</td>\n",
       "      <td>0</td>\n",
       "      <td>0</td>\n",
       "      <td>0</td>\n",
       "      <td>0</td>\n",
       "      <td>0</td>\n",
       "      <td>0</td>\n",
       "      <td>0</td>\n",
       "      <td>0</td>\n",
       "      <td>0</td>\n",
       "      <td>0</td>\n",
       "      <td>0</td>\n",
       "      <td>0</td>\n",
       "      <td>1</td>\n",
       "      <td>0</td>\n",
       "      <td>0</td>\n",
       "      <td>3.54952</td>\n",
       "      <td>4.390725</td>\n",
       "      <td>4.222222</td>\n",
       "      <td>1</td>\n",
       "      <td>0</td>\n",
       "      <td>0</td>\n",
       "    </tr>\n",
       "    <tr>\n",
       "      <td>4</td>\n",
       "      <td>4</td>\n",
       "      <td>1</td>\n",
       "      <td>0</td>\n",
       "      <td>0</td>\n",
       "      <td>0</td>\n",
       "      <td>0</td>\n",
       "      <td>0</td>\n",
       "      <td>0</td>\n",
       "      <td>0</td>\n",
       "      <td>0</td>\n",
       "      <td>0</td>\n",
       "      <td>0</td>\n",
       "      <td>0</td>\n",
       "      <td>0</td>\n",
       "      <td>0</td>\n",
       "      <td>0</td>\n",
       "      <td>0</td>\n",
       "      <td>1</td>\n",
       "      <td>0</td>\n",
       "      <td>0</td>\n",
       "      <td>3.54952</td>\n",
       "      <td>4.390725</td>\n",
       "      <td>4.222222</td>\n",
       "      <td>1</td>\n",
       "      <td>0</td>\n",
       "      <td>0</td>\n",
       "    </tr>\n",
       "  </tbody>\n",
       "</table>\n",
       "</div>"
      ],
      "text/plain": [
       "   Rating  Age  Children's  Romance  Action  Adventure  Sci-Fi  Western  \\\n",
       "0       5    1           0        0       0          0       0        0   \n",
       "1       5    1           0        0       0          0       0        0   \n",
       "2       2    1           0        0       0          0       0        0   \n",
       "3       4    1           0        0       0          0       0        0   \n",
       "4       4    1           0        0       0          0       0        0   \n",
       "\n",
       "   Film-Noir  Documentary  Comedy  Fantasy  War  Crime  Horror  Thriller  \\\n",
       "0          0            0       0        0    0      0       0         0   \n",
       "1          0            0       0        0    0      0       0         0   \n",
       "2          0            0       0        0    0      0       0         0   \n",
       "3          0            0       0        0    0      0       0         0   \n",
       "4          0            0       0        0    0      0       0         0   \n",
       "\n",
       "   Musical  Drama  Mystery  Animation  Rating_mean_by_age  \\\n",
       "0        0      1        0          0             3.54952   \n",
       "1        0      1        0          0             3.54952   \n",
       "2        0      1        0          0             3.54952   \n",
       "3        0      1        0          0             3.54952   \n",
       "4        0      1        0          0             3.54952   \n",
       "\n",
       "   Rating_mean_by_movieid  Rating_mean_per_movie_by_age  \\\n",
       "0                4.390725                      4.222222   \n",
       "1                4.390725                      4.222222   \n",
       "2                4.390725                      4.222222   \n",
       "3                4.390725                      4.222222   \n",
       "4                4.390725                      4.222222   \n",
       "\n",
       "   rating_greater_than_mean_age_rating  rating_greater_than_mean_movie_rating  \\\n",
       "0                                    1                                      1   \n",
       "1                                    1                                      1   \n",
       "2                                    0                                      0   \n",
       "3                                    1                                      0   \n",
       "4                                    1                                      0   \n",
       "\n",
       "   rating_greater_than_mean_movie_rating_by_age  \n",
       "0                                             1  \n",
       "1                                             1  \n",
       "2                                             0  \n",
       "3                                             0  \n",
       "4                                             0  "
      ]
     },
     "execution_count": 92,
     "metadata": {},
     "output_type": "execute_result"
    }
   ],
   "source": [
    "master_data_copy.head()"
   ]
  },
  {
   "cell_type": "code",
   "execution_count": 93,
   "metadata": {},
   "outputs": [],
   "source": [
    "corr= master_data_copy.corr() #correlation\n",
    "#creating mask\n",
    "mask = np.zeros_like(corr)\n",
    "mask[np.triu_indices_from(mask)] = True"
   ]
  },
  {
   "cell_type": "code",
   "execution_count": 94,
   "metadata": {},
   "outputs": [
    {
     "data": {
      "text/html": [
       "<div>\n",
       "<style scoped>\n",
       "    .dataframe tbody tr th:only-of-type {\n",
       "        vertical-align: middle;\n",
       "    }\n",
       "\n",
       "    .dataframe tbody tr th {\n",
       "        vertical-align: top;\n",
       "    }\n",
       "\n",
       "    .dataframe thead th {\n",
       "        text-align: right;\n",
       "    }\n",
       "</style>\n",
       "<table border=\"1\" class=\"dataframe\">\n",
       "  <thead>\n",
       "    <tr style=\"text-align: right;\">\n",
       "      <th></th>\n",
       "      <th>Rating</th>\n",
       "      <th>Age</th>\n",
       "      <th>Children's</th>\n",
       "      <th>Romance</th>\n",
       "      <th>Action</th>\n",
       "      <th>Adventure</th>\n",
       "      <th>Sci-Fi</th>\n",
       "      <th>Western</th>\n",
       "      <th>Film-Noir</th>\n",
       "      <th>Documentary</th>\n",
       "      <th>Comedy</th>\n",
       "      <th>Fantasy</th>\n",
       "      <th>War</th>\n",
       "      <th>Crime</th>\n",
       "      <th>Horror</th>\n",
       "      <th>Thriller</th>\n",
       "      <th>Musical</th>\n",
       "      <th>Drama</th>\n",
       "      <th>Mystery</th>\n",
       "      <th>Animation</th>\n",
       "      <th>Rating_mean_by_age</th>\n",
       "      <th>Rating_mean_by_movieid</th>\n",
       "      <th>Rating_mean_per_movie_by_age</th>\n",
       "      <th>rating_greater_than_mean_age_rating</th>\n",
       "      <th>rating_greater_than_mean_movie_rating</th>\n",
       "      <th>rating_greater_than_mean_movie_rating_by_age</th>\n",
       "    </tr>\n",
       "  </thead>\n",
       "  <tbody>\n",
       "    <tr>\n",
       "      <td>Rating</td>\n",
       "      <td>1.000000</td>\n",
       "      <td>0.059047</td>\n",
       "      <td>-0.039829</td>\n",
       "      <td>0.009644</td>\n",
       "      <td>-0.047633</td>\n",
       "      <td>-0.036718</td>\n",
       "      <td>-0.044487</td>\n",
       "      <td>0.007311</td>\n",
       "      <td>0.060259</td>\n",
       "      <td>0.028098</td>\n",
       "      <td>-0.039622</td>\n",
       "      <td>-0.023312</td>\n",
       "      <td>0.075688</td>\n",
       "      <td>0.033446</td>\n",
       "      <td>-0.094353</td>\n",
       "      <td>-0.004806</td>\n",
       "      <td>0.015643</td>\n",
       "      <td>0.122561</td>\n",
       "      <td>0.015848</td>\n",
       "      <td>0.019670</td>\n",
       "      <td>0.061349</td>\n",
       "      <td>0.488549</td>\n",
       "      <td>0.514535</td>\n",
       "      <td>0.845576</td>\n",
       "      <td>0.717000</td>\n",
       "      <td>0.700598</td>\n",
       "    </tr>\n",
       "    <tr>\n",
       "      <td>Age</td>\n",
       "      <td>0.059047</td>\n",
       "      <td>1.000000</td>\n",
       "      <td>-0.050375</td>\n",
       "      <td>0.017420</td>\n",
       "      <td>-0.032723</td>\n",
       "      <td>-0.017328</td>\n",
       "      <td>-0.012540</td>\n",
       "      <td>0.038833</td>\n",
       "      <td>0.034327</td>\n",
       "      <td>0.004025</td>\n",
       "      <td>-0.043938</td>\n",
       "      <td>-0.024406</td>\n",
       "      <td>0.039283</td>\n",
       "      <td>-0.008596</td>\n",
       "      <td>-0.025664</td>\n",
       "      <td>-0.014902</td>\n",
       "      <td>0.006373</td>\n",
       "      <td>0.064693</td>\n",
       "      <td>0.024974</td>\n",
       "      <td>-0.045272</td>\n",
       "      <td>0.962472</td>\n",
       "      <td>0.105987</td>\n",
       "      <td>0.114758</td>\n",
       "      <td>0.046186</td>\n",
       "      <td>0.005642</td>\n",
       "      <td>0.001403</td>\n",
       "    </tr>\n",
       "    <tr>\n",
       "      <td>Children's</td>\n",
       "      <td>-0.039829</td>\n",
       "      <td>-0.050375</td>\n",
       "      <td>1.000000</td>\n",
       "      <td>-0.084550</td>\n",
       "      <td>-0.141314</td>\n",
       "      <td>0.098283</td>\n",
       "      <td>-0.038844</td>\n",
       "      <td>-0.031269</td>\n",
       "      <td>-0.038033</td>\n",
       "      <td>-0.024901</td>\n",
       "      <td>0.058711</td>\n",
       "      <td>0.263280</td>\n",
       "      <td>-0.066539</td>\n",
       "      <td>-0.081977</td>\n",
       "      <td>-0.077099</td>\n",
       "      <td>-0.132642</td>\n",
       "      <td>0.312567</td>\n",
       "      <td>-0.135707</td>\n",
       "      <td>-0.052786</td>\n",
       "      <td>0.576204</td>\n",
       "      <td>-0.036208</td>\n",
       "      <td>-0.081524</td>\n",
       "      <td>-0.077407</td>\n",
       "      <td>-0.033144</td>\n",
       "      <td>0.014023</td>\n",
       "      <td>0.006551</td>\n",
       "    </tr>\n",
       "    <tr>\n",
       "      <td>Romance</td>\n",
       "      <td>0.009644</td>\n",
       "      <td>0.017420</td>\n",
       "      <td>-0.084550</td>\n",
       "      <td>1.000000</td>\n",
       "      <td>-0.067830</td>\n",
       "      <td>-0.024389</td>\n",
       "      <td>-0.133752</td>\n",
       "      <td>-0.044650</td>\n",
       "      <td>-0.047351</td>\n",
       "      <td>-0.037137</td>\n",
       "      <td>0.112843</td>\n",
       "      <td>-0.014822</td>\n",
       "      <td>0.053347</td>\n",
       "      <td>-0.073320</td>\n",
       "      <td>-0.099434</td>\n",
       "      <td>-0.081384</td>\n",
       "      <td>0.023506</td>\n",
       "      <td>0.023552</td>\n",
       "      <td>-0.040162</td>\n",
       "      <td>-0.054540</td>\n",
       "      <td>0.015512</td>\n",
       "      <td>0.019740</td>\n",
       "      <td>0.018743</td>\n",
       "      <td>0.003705</td>\n",
       "      <td>0.000037</td>\n",
       "      <td>-0.002579</td>\n",
       "    </tr>\n",
       "    <tr>\n",
       "      <td>Action</td>\n",
       "      <td>-0.047633</td>\n",
       "      <td>-0.032723</td>\n",
       "      <td>-0.141314</td>\n",
       "      <td>-0.067830</td>\n",
       "      <td>1.000000</td>\n",
       "      <td>0.374961</td>\n",
       "      <td>0.319117</td>\n",
       "      <td>0.022242</td>\n",
       "      <td>-0.080288</td>\n",
       "      <td>-0.052565</td>\n",
       "      <td>-0.268092</td>\n",
       "      <td>0.014551</td>\n",
       "      <td>0.135872</td>\n",
       "      <td>0.088519</td>\n",
       "      <td>-0.042733</td>\n",
       "      <td>0.202756</td>\n",
       "      <td>-0.100432</td>\n",
       "      <td>-0.202415</td>\n",
       "      <td>-0.054084</td>\n",
       "      <td>-0.110294</td>\n",
       "      <td>-0.035127</td>\n",
       "      <td>-0.097499</td>\n",
       "      <td>-0.092575</td>\n",
       "      <td>-0.043084</td>\n",
       "      <td>-0.021280</td>\n",
       "      <td>-0.012122</td>\n",
       "    </tr>\n",
       "    <tr>\n",
       "      <td>Adventure</td>\n",
       "      <td>-0.036718</td>\n",
       "      <td>-0.017328</td>\n",
       "      <td>0.098283</td>\n",
       "      <td>-0.024389</td>\n",
       "      <td>0.374961</td>\n",
       "      <td>1.000000</td>\n",
       "      <td>0.284190</td>\n",
       "      <td>-0.011964</td>\n",
       "      <td>-0.014178</td>\n",
       "      <td>-0.035109</td>\n",
       "      <td>-0.124960</td>\n",
       "      <td>0.227046</td>\n",
       "      <td>0.016647</td>\n",
       "      <td>-0.045924</td>\n",
       "      <td>-0.057256</td>\n",
       "      <td>-0.038423</td>\n",
       "      <td>-0.022327</td>\n",
       "      <td>-0.194570</td>\n",
       "      <td>-0.043503</td>\n",
       "      <td>0.004732</td>\n",
       "      <td>-0.015667</td>\n",
       "      <td>-0.075157</td>\n",
       "      <td>-0.071361</td>\n",
       "      <td>-0.036188</td>\n",
       "      <td>-0.008017</td>\n",
       "      <td>-0.002431</td>\n",
       "    </tr>\n",
       "    <tr>\n",
       "      <td>Sci-Fi</td>\n",
       "      <td>-0.044487</td>\n",
       "      <td>-0.012540</td>\n",
       "      <td>-0.038844</td>\n",
       "      <td>-0.133752</td>\n",
       "      <td>0.319117</td>\n",
       "      <td>0.284190</td>\n",
       "      <td>1.000000</td>\n",
       "      <td>-0.010935</td>\n",
       "      <td>-0.004056</td>\n",
       "      <td>-0.038568</td>\n",
       "      <td>-0.187079</td>\n",
       "      <td>0.121843</td>\n",
       "      <td>0.039314</td>\n",
       "      <td>-0.083730</td>\n",
       "      <td>0.056505</td>\n",
       "      <td>0.102546</td>\n",
       "      <td>-0.068012</td>\n",
       "      <td>-0.212747</td>\n",
       "      <td>-0.028273</td>\n",
       "      <td>-0.055526</td>\n",
       "      <td>-0.013394</td>\n",
       "      <td>-0.091059</td>\n",
       "      <td>-0.086460</td>\n",
       "      <td>-0.040404</td>\n",
       "      <td>-0.007995</td>\n",
       "      <td>-0.005284</td>\n",
       "    </tr>\n",
       "    <tr>\n",
       "      <td>Western</td>\n",
       "      <td>0.007311</td>\n",
       "      <td>0.038833</td>\n",
       "      <td>-0.031269</td>\n",
       "      <td>-0.044650</td>\n",
       "      <td>0.022242</td>\n",
       "      <td>-0.011964</td>\n",
       "      <td>-0.010935</td>\n",
       "      <td>1.000000</td>\n",
       "      <td>-0.019816</td>\n",
       "      <td>-0.012974</td>\n",
       "      <td>0.007927</td>\n",
       "      <td>-0.028199</td>\n",
       "      <td>-0.019803</td>\n",
       "      <td>-0.042711</td>\n",
       "      <td>-0.041784</td>\n",
       "      <td>-0.058897</td>\n",
       "      <td>-0.030245</td>\n",
       "      <td>-0.045945</td>\n",
       "      <td>-0.029727</td>\n",
       "      <td>-0.030908</td>\n",
       "      <td>0.038597</td>\n",
       "      <td>0.014965</td>\n",
       "      <td>0.014209</td>\n",
       "      <td>0.005898</td>\n",
       "      <td>-0.007952</td>\n",
       "      <td>-0.006330</td>\n",
       "    </tr>\n",
       "    <tr>\n",
       "      <td>Film-Noir</td>\n",
       "      <td>0.060259</td>\n",
       "      <td>0.034327</td>\n",
       "      <td>-0.038033</td>\n",
       "      <td>-0.047351</td>\n",
       "      <td>-0.080288</td>\n",
       "      <td>-0.014178</td>\n",
       "      <td>-0.004056</td>\n",
       "      <td>-0.019816</td>\n",
       "      <td>1.000000</td>\n",
       "      <td>-0.012175</td>\n",
       "      <td>-0.101425</td>\n",
       "      <td>-0.026464</td>\n",
       "      <td>-0.036984</td>\n",
       "      <td>0.136237</td>\n",
       "      <td>-0.039157</td>\n",
       "      <td>0.115231</td>\n",
       "      <td>-0.028384</td>\n",
       "      <td>-0.067297</td>\n",
       "      <td>0.215354</td>\n",
       "      <td>0.037013</td>\n",
       "      <td>0.034110</td>\n",
       "      <td>0.123343</td>\n",
       "      <td>0.117113</td>\n",
       "      <td>0.051954</td>\n",
       "      <td>-0.004564</td>\n",
       "      <td>-0.004623</td>\n",
       "    </tr>\n",
       "    <tr>\n",
       "      <td>Documentary</td>\n",
       "      <td>0.028098</td>\n",
       "      <td>0.004025</td>\n",
       "      <td>-0.024901</td>\n",
       "      <td>-0.037137</td>\n",
       "      <td>-0.052565</td>\n",
       "      <td>-0.035109</td>\n",
       "      <td>-0.038568</td>\n",
       "      <td>-0.012974</td>\n",
       "      <td>-0.012175</td>\n",
       "      <td>1.000000</td>\n",
       "      <td>-0.040697</td>\n",
       "      <td>-0.017326</td>\n",
       "      <td>-0.016082</td>\n",
       "      <td>-0.026243</td>\n",
       "      <td>-0.025673</td>\n",
       "      <td>-0.043191</td>\n",
       "      <td>-0.007155</td>\n",
       "      <td>-0.062194</td>\n",
       "      <td>-0.018265</td>\n",
       "      <td>-0.018991</td>\n",
       "      <td>0.002029</td>\n",
       "      <td>0.057513</td>\n",
       "      <td>0.054608</td>\n",
       "      <td>0.026635</td>\n",
       "      <td>-0.007279</td>\n",
       "      <td>0.000638</td>\n",
       "    </tr>\n",
       "    <tr>\n",
       "      <td>Comedy</td>\n",
       "      <td>-0.039622</td>\n",
       "      <td>-0.043938</td>\n",
       "      <td>0.058711</td>\n",
       "      <td>0.112843</td>\n",
       "      <td>-0.268092</td>\n",
       "      <td>-0.124960</td>\n",
       "      <td>-0.187079</td>\n",
       "      <td>0.007927</td>\n",
       "      <td>-0.101425</td>\n",
       "      <td>-0.040697</td>\n",
       "      <td>1.000000</td>\n",
       "      <td>-0.006010</td>\n",
       "      <td>-0.127101</td>\n",
       "      <td>-0.078030</td>\n",
       "      <td>-0.093064</td>\n",
       "      <td>-0.299501</td>\n",
       "      <td>0.030566</td>\n",
       "      <td>-0.249840</td>\n",
       "      <td>-0.105346</td>\n",
       "      <td>0.018544</td>\n",
       "      <td>-0.040795</td>\n",
       "      <td>-0.081101</td>\n",
       "      <td>-0.077005</td>\n",
       "      <td>-0.034398</td>\n",
       "      <td>0.010513</td>\n",
       "      <td>0.002483</td>\n",
       "    </tr>\n",
       "    <tr>\n",
       "      <td>Fantasy</td>\n",
       "      <td>-0.023312</td>\n",
       "      <td>-0.024406</td>\n",
       "      <td>0.263280</td>\n",
       "      <td>-0.014822</td>\n",
       "      <td>0.014551</td>\n",
       "      <td>0.227046</td>\n",
       "      <td>0.121843</td>\n",
       "      <td>-0.028199</td>\n",
       "      <td>-0.026464</td>\n",
       "      <td>-0.017326</td>\n",
       "      <td>-0.006010</td>\n",
       "      <td>1.000000</td>\n",
       "      <td>-0.044928</td>\n",
       "      <td>-0.033745</td>\n",
       "      <td>-0.055803</td>\n",
       "      <td>-0.087374</td>\n",
       "      <td>-0.020134</td>\n",
       "      <td>-0.096929</td>\n",
       "      <td>-0.039700</td>\n",
       "      <td>0.012025</td>\n",
       "      <td>-0.021726</td>\n",
       "      <td>-0.047717</td>\n",
       "      <td>-0.045307</td>\n",
       "      <td>-0.023413</td>\n",
       "      <td>0.008136</td>\n",
       "      <td>0.002655</td>\n",
       "    </tr>\n",
       "    <tr>\n",
       "      <td>War</td>\n",
       "      <td>0.075688</td>\n",
       "      <td>0.039283</td>\n",
       "      <td>-0.066539</td>\n",
       "      <td>0.053347</td>\n",
       "      <td>0.135872</td>\n",
       "      <td>0.016647</td>\n",
       "      <td>0.039314</td>\n",
       "      <td>-0.019803</td>\n",
       "      <td>-0.036984</td>\n",
       "      <td>-0.016082</td>\n",
       "      <td>-0.127101</td>\n",
       "      <td>-0.044928</td>\n",
       "      <td>1.000000</td>\n",
       "      <td>-0.079715</td>\n",
       "      <td>-0.077985</td>\n",
       "      <td>-0.088018</td>\n",
       "      <td>-0.034429</td>\n",
       "      <td>0.136582</td>\n",
       "      <td>-0.055482</td>\n",
       "      <td>-0.046114</td>\n",
       "      <td>0.039689</td>\n",
       "      <td>0.154924</td>\n",
       "      <td>0.147100</td>\n",
       "      <td>0.065074</td>\n",
       "      <td>-0.007890</td>\n",
       "      <td>-0.006136</td>\n",
       "    </tr>\n",
       "    <tr>\n",
       "      <td>Crime</td>\n",
       "      <td>0.033446</td>\n",
       "      <td>-0.008596</td>\n",
       "      <td>-0.081977</td>\n",
       "      <td>-0.073320</td>\n",
       "      <td>0.088519</td>\n",
       "      <td>-0.045924</td>\n",
       "      <td>-0.083730</td>\n",
       "      <td>-0.042711</td>\n",
       "      <td>0.136237</td>\n",
       "      <td>-0.026243</td>\n",
       "      <td>-0.078030</td>\n",
       "      <td>-0.033745</td>\n",
       "      <td>-0.079715</td>\n",
       "      <td>1.000000</td>\n",
       "      <td>-0.047899</td>\n",
       "      <td>0.115095</td>\n",
       "      <td>-0.061179</td>\n",
       "      <td>0.070479</td>\n",
       "      <td>0.080093</td>\n",
       "      <td>-0.062520</td>\n",
       "      <td>-0.011909</td>\n",
       "      <td>0.068460</td>\n",
       "      <td>0.065003</td>\n",
       "      <td>0.026898</td>\n",
       "      <td>-0.001929</td>\n",
       "      <td>0.002234</td>\n",
       "    </tr>\n",
       "    <tr>\n",
       "      <td>Horror</td>\n",
       "      <td>-0.094353</td>\n",
       "      <td>-0.025664</td>\n",
       "      <td>-0.077099</td>\n",
       "      <td>-0.099434</td>\n",
       "      <td>-0.042733</td>\n",
       "      <td>-0.057256</td>\n",
       "      <td>0.056505</td>\n",
       "      <td>-0.041784</td>\n",
       "      <td>-0.039157</td>\n",
       "      <td>-0.025673</td>\n",
       "      <td>-0.093064</td>\n",
       "      <td>-0.055803</td>\n",
       "      <td>-0.077985</td>\n",
       "      <td>-0.047899</td>\n",
       "      <td>1.000000</td>\n",
       "      <td>0.056629</td>\n",
       "      <td>-0.018924</td>\n",
       "      <td>-0.189551</td>\n",
       "      <td>-0.002423</td>\n",
       "      <td>-0.049730</td>\n",
       "      <td>-0.026233</td>\n",
       "      <td>-0.193129</td>\n",
       "      <td>-0.183375</td>\n",
       "      <td>-0.074983</td>\n",
       "      <td>-0.007392</td>\n",
       "      <td>-0.005839</td>\n",
       "    </tr>\n",
       "    <tr>\n",
       "      <td>Thriller</td>\n",
       "      <td>-0.004806</td>\n",
       "      <td>-0.014902</td>\n",
       "      <td>-0.132642</td>\n",
       "      <td>-0.081384</td>\n",
       "      <td>0.202756</td>\n",
       "      <td>-0.038423</td>\n",
       "      <td>0.102546</td>\n",
       "      <td>-0.058897</td>\n",
       "      <td>0.115231</td>\n",
       "      <td>-0.043191</td>\n",
       "      <td>-0.299501</td>\n",
       "      <td>-0.087374</td>\n",
       "      <td>-0.088018</td>\n",
       "      <td>0.115095</td>\n",
       "      <td>0.056629</td>\n",
       "      <td>1.000000</td>\n",
       "      <td>-0.100690</td>\n",
       "      <td>-0.153717</td>\n",
       "      <td>0.225281</td>\n",
       "      <td>-0.085713</td>\n",
       "      <td>-0.017125</td>\n",
       "      <td>-0.009838</td>\n",
       "      <td>-0.009341</td>\n",
       "      <td>-0.004543</td>\n",
       "      <td>-0.021927</td>\n",
       "      <td>-0.015949</td>\n",
       "    </tr>\n",
       "    <tr>\n",
       "      <td>Musical</td>\n",
       "      <td>0.015643</td>\n",
       "      <td>0.006373</td>\n",
       "      <td>0.312567</td>\n",
       "      <td>0.023506</td>\n",
       "      <td>-0.100432</td>\n",
       "      <td>-0.022327</td>\n",
       "      <td>-0.068012</td>\n",
       "      <td>-0.030245</td>\n",
       "      <td>-0.028384</td>\n",
       "      <td>-0.007155</td>\n",
       "      <td>0.030566</td>\n",
       "      <td>-0.020134</td>\n",
       "      <td>-0.034429</td>\n",
       "      <td>-0.061179</td>\n",
       "      <td>-0.018924</td>\n",
       "      <td>-0.100690</td>\n",
       "      <td>1.000000</td>\n",
       "      <td>-0.094778</td>\n",
       "      <td>-0.042581</td>\n",
       "      <td>0.335231</td>\n",
       "      <td>0.011342</td>\n",
       "      <td>0.032019</td>\n",
       "      <td>0.030402</td>\n",
       "      <td>0.012397</td>\n",
       "      <td>0.015950</td>\n",
       "      <td>0.010586</td>\n",
       "    </tr>\n",
       "    <tr>\n",
       "      <td>Drama</td>\n",
       "      <td>0.122561</td>\n",
       "      <td>0.064693</td>\n",
       "      <td>-0.135707</td>\n",
       "      <td>0.023552</td>\n",
       "      <td>-0.202415</td>\n",
       "      <td>-0.194570</td>\n",
       "      <td>-0.212747</td>\n",
       "      <td>-0.045945</td>\n",
       "      <td>-0.067297</td>\n",
       "      <td>-0.062194</td>\n",
       "      <td>-0.249840</td>\n",
       "      <td>-0.096929</td>\n",
       "      <td>0.136582</td>\n",
       "      <td>0.070479</td>\n",
       "      <td>-0.189551</td>\n",
       "      <td>-0.153717</td>\n",
       "      <td>-0.094778</td>\n",
       "      <td>1.000000</td>\n",
       "      <td>-0.027689</td>\n",
       "      <td>-0.154479</td>\n",
       "      <td>0.059240</td>\n",
       "      <td>0.250867</td>\n",
       "      <td>0.238197</td>\n",
       "      <td>0.103713</td>\n",
       "      <td>0.013448</td>\n",
       "      <td>0.012338</td>\n",
       "    </tr>\n",
       "    <tr>\n",
       "      <td>Mystery</td>\n",
       "      <td>0.015848</td>\n",
       "      <td>0.024974</td>\n",
       "      <td>-0.052786</td>\n",
       "      <td>-0.040162</td>\n",
       "      <td>-0.054084</td>\n",
       "      <td>-0.043503</td>\n",
       "      <td>-0.028273</td>\n",
       "      <td>-0.029727</td>\n",
       "      <td>0.215354</td>\n",
       "      <td>-0.018265</td>\n",
       "      <td>-0.105346</td>\n",
       "      <td>-0.039700</td>\n",
       "      <td>-0.055482</td>\n",
       "      <td>0.080093</td>\n",
       "      <td>-0.002423</td>\n",
       "      <td>0.225281</td>\n",
       "      <td>-0.042581</td>\n",
       "      <td>-0.027689</td>\n",
       "      <td>1.000000</td>\n",
       "      <td>-0.042488</td>\n",
       "      <td>0.024396</td>\n",
       "      <td>0.032438</td>\n",
       "      <td>0.030800</td>\n",
       "      <td>0.012270</td>\n",
       "      <td>-0.010802</td>\n",
       "      <td>-0.011757</td>\n",
       "    </tr>\n",
       "    <tr>\n",
       "      <td>Animation</td>\n",
       "      <td>0.019670</td>\n",
       "      <td>-0.045272</td>\n",
       "      <td>0.576204</td>\n",
       "      <td>-0.054540</td>\n",
       "      <td>-0.110294</td>\n",
       "      <td>0.004732</td>\n",
       "      <td>-0.055526</td>\n",
       "      <td>-0.030908</td>\n",
       "      <td>0.037013</td>\n",
       "      <td>-0.018991</td>\n",
       "      <td>0.018544</td>\n",
       "      <td>0.012025</td>\n",
       "      <td>-0.046114</td>\n",
       "      <td>-0.062520</td>\n",
       "      <td>-0.049730</td>\n",
       "      <td>-0.085713</td>\n",
       "      <td>0.335231</td>\n",
       "      <td>-0.154479</td>\n",
       "      <td>-0.042488</td>\n",
       "      <td>1.000000</td>\n",
       "      <td>-0.036217</td>\n",
       "      <td>0.040261</td>\n",
       "      <td>0.038228</td>\n",
       "      <td>0.017250</td>\n",
       "      <td>0.017116</td>\n",
       "      <td>0.012127</td>\n",
       "    </tr>\n",
       "    <tr>\n",
       "      <td>Rating_mean_by_age</td>\n",
       "      <td>0.061349</td>\n",
       "      <td>0.962472</td>\n",
       "      <td>-0.036208</td>\n",
       "      <td>0.015512</td>\n",
       "      <td>-0.035127</td>\n",
       "      <td>-0.015667</td>\n",
       "      <td>-0.013394</td>\n",
       "      <td>0.038597</td>\n",
       "      <td>0.034110</td>\n",
       "      <td>0.002029</td>\n",
       "      <td>-0.040795</td>\n",
       "      <td>-0.021726</td>\n",
       "      <td>0.039689</td>\n",
       "      <td>-0.011909</td>\n",
       "      <td>-0.026233</td>\n",
       "      <td>-0.017125</td>\n",
       "      <td>0.011342</td>\n",
       "      <td>0.059240</td>\n",
       "      <td>0.024396</td>\n",
       "      <td>-0.036217</td>\n",
       "      <td>1.000000</td>\n",
       "      <td>0.102994</td>\n",
       "      <td>0.119232</td>\n",
       "      <td>0.048835</td>\n",
       "      <td>0.009216</td>\n",
       "      <td>0.004136</td>\n",
       "    </tr>\n",
       "    <tr>\n",
       "      <td>Rating_mean_by_movieid</td>\n",
       "      <td>0.488549</td>\n",
       "      <td>0.105987</td>\n",
       "      <td>-0.081524</td>\n",
       "      <td>0.019740</td>\n",
       "      <td>-0.097499</td>\n",
       "      <td>-0.075157</td>\n",
       "      <td>-0.091059</td>\n",
       "      <td>0.014965</td>\n",
       "      <td>0.123343</td>\n",
       "      <td>0.057513</td>\n",
       "      <td>-0.081101</td>\n",
       "      <td>-0.047717</td>\n",
       "      <td>0.154924</td>\n",
       "      <td>0.068460</td>\n",
       "      <td>-0.193129</td>\n",
       "      <td>-0.009838</td>\n",
       "      <td>0.032019</td>\n",
       "      <td>0.250867</td>\n",
       "      <td>0.032438</td>\n",
       "      <td>0.040261</td>\n",
       "      <td>0.102994</td>\n",
       "      <td>1.000000</td>\n",
       "      <td>0.949496</td>\n",
       "      <td>0.410223</td>\n",
       "      <td>0.036349</td>\n",
       "      <td>0.028256</td>\n",
       "    </tr>\n",
       "    <tr>\n",
       "      <td>Rating_mean_per_movie_by_age</td>\n",
       "      <td>0.514535</td>\n",
       "      <td>0.114758</td>\n",
       "      <td>-0.077407</td>\n",
       "      <td>0.018743</td>\n",
       "      <td>-0.092575</td>\n",
       "      <td>-0.071361</td>\n",
       "      <td>-0.086460</td>\n",
       "      <td>0.014209</td>\n",
       "      <td>0.117113</td>\n",
       "      <td>0.054608</td>\n",
       "      <td>-0.077005</td>\n",
       "      <td>-0.045307</td>\n",
       "      <td>0.147100</td>\n",
       "      <td>0.065003</td>\n",
       "      <td>-0.183375</td>\n",
       "      <td>-0.009341</td>\n",
       "      <td>0.030402</td>\n",
       "      <td>0.238197</td>\n",
       "      <td>0.030800</td>\n",
       "      <td>0.038228</td>\n",
       "      <td>0.119232</td>\n",
       "      <td>0.949496</td>\n",
       "      <td>1.000000</td>\n",
       "      <td>0.430022</td>\n",
       "      <td>0.079857</td>\n",
       "      <td>0.029130</td>\n",
       "    </tr>\n",
       "    <tr>\n",
       "      <td>rating_greater_than_mean_age_rating</td>\n",
       "      <td>0.845576</td>\n",
       "      <td>0.046186</td>\n",
       "      <td>-0.033144</td>\n",
       "      <td>0.003705</td>\n",
       "      <td>-0.043084</td>\n",
       "      <td>-0.036188</td>\n",
       "      <td>-0.040404</td>\n",
       "      <td>0.005898</td>\n",
       "      <td>0.051954</td>\n",
       "      <td>0.026635</td>\n",
       "      <td>-0.034398</td>\n",
       "      <td>-0.023413</td>\n",
       "      <td>0.065074</td>\n",
       "      <td>0.026898</td>\n",
       "      <td>-0.074983</td>\n",
       "      <td>-0.004543</td>\n",
       "      <td>0.012397</td>\n",
       "      <td>0.103713</td>\n",
       "      <td>0.012270</td>\n",
       "      <td>0.017250</td>\n",
       "      <td>0.048835</td>\n",
       "      <td>0.410223</td>\n",
       "      <td>0.430022</td>\n",
       "      <td>1.000000</td>\n",
       "      <td>0.726177</td>\n",
       "      <td>0.701219</td>\n",
       "    </tr>\n",
       "    <tr>\n",
       "      <td>rating_greater_than_mean_movie_rating</td>\n",
       "      <td>0.717000</td>\n",
       "      <td>0.005642</td>\n",
       "      <td>0.014023</td>\n",
       "      <td>0.000037</td>\n",
       "      <td>-0.021280</td>\n",
       "      <td>-0.008017</td>\n",
       "      <td>-0.007995</td>\n",
       "      <td>-0.007952</td>\n",
       "      <td>-0.004564</td>\n",
       "      <td>-0.007279</td>\n",
       "      <td>0.010513</td>\n",
       "      <td>0.008136</td>\n",
       "      <td>-0.007890</td>\n",
       "      <td>-0.001929</td>\n",
       "      <td>-0.007392</td>\n",
       "      <td>-0.021927</td>\n",
       "      <td>0.015950</td>\n",
       "      <td>0.013448</td>\n",
       "      <td>-0.010802</td>\n",
       "      <td>0.017116</td>\n",
       "      <td>0.009216</td>\n",
       "      <td>0.036349</td>\n",
       "      <td>0.079857</td>\n",
       "      <td>0.726177</td>\n",
       "      <td>1.000000</td>\n",
       "      <td>0.902737</td>\n",
       "    </tr>\n",
       "    <tr>\n",
       "      <td>rating_greater_than_mean_movie_rating_by_age</td>\n",
       "      <td>0.700598</td>\n",
       "      <td>0.001403</td>\n",
       "      <td>0.006551</td>\n",
       "      <td>-0.002579</td>\n",
       "      <td>-0.012122</td>\n",
       "      <td>-0.002431</td>\n",
       "      <td>-0.005284</td>\n",
       "      <td>-0.006330</td>\n",
       "      <td>-0.004623</td>\n",
       "      <td>0.000638</td>\n",
       "      <td>0.002483</td>\n",
       "      <td>0.002655</td>\n",
       "      <td>-0.006136</td>\n",
       "      <td>0.002234</td>\n",
       "      <td>-0.005839</td>\n",
       "      <td>-0.015949</td>\n",
       "      <td>0.010586</td>\n",
       "      <td>0.012338</td>\n",
       "      <td>-0.011757</td>\n",
       "      <td>0.012127</td>\n",
       "      <td>0.004136</td>\n",
       "      <td>0.028256</td>\n",
       "      <td>0.029130</td>\n",
       "      <td>0.701219</td>\n",
       "      <td>0.902737</td>\n",
       "      <td>1.000000</td>\n",
       "    </tr>\n",
       "  </tbody>\n",
       "</table>\n",
       "</div>"
      ],
      "text/plain": [
       "                                                Rating       Age  Children's  \\\n",
       "Rating                                        1.000000  0.059047   -0.039829   \n",
       "Age                                           0.059047  1.000000   -0.050375   \n",
       "Children's                                   -0.039829 -0.050375    1.000000   \n",
       "Romance                                       0.009644  0.017420   -0.084550   \n",
       "Action                                       -0.047633 -0.032723   -0.141314   \n",
       "Adventure                                    -0.036718 -0.017328    0.098283   \n",
       "Sci-Fi                                       -0.044487 -0.012540   -0.038844   \n",
       "Western                                       0.007311  0.038833   -0.031269   \n",
       "Film-Noir                                     0.060259  0.034327   -0.038033   \n",
       "Documentary                                   0.028098  0.004025   -0.024901   \n",
       "Comedy                                       -0.039622 -0.043938    0.058711   \n",
       "Fantasy                                      -0.023312 -0.024406    0.263280   \n",
       "War                                           0.075688  0.039283   -0.066539   \n",
       "Crime                                         0.033446 -0.008596   -0.081977   \n",
       "Horror                                       -0.094353 -0.025664   -0.077099   \n",
       "Thriller                                     -0.004806 -0.014902   -0.132642   \n",
       "Musical                                       0.015643  0.006373    0.312567   \n",
       "Drama                                         0.122561  0.064693   -0.135707   \n",
       "Mystery                                       0.015848  0.024974   -0.052786   \n",
       "Animation                                     0.019670 -0.045272    0.576204   \n",
       "Rating_mean_by_age                            0.061349  0.962472   -0.036208   \n",
       "Rating_mean_by_movieid                        0.488549  0.105987   -0.081524   \n",
       "Rating_mean_per_movie_by_age                  0.514535  0.114758   -0.077407   \n",
       "rating_greater_than_mean_age_rating           0.845576  0.046186   -0.033144   \n",
       "rating_greater_than_mean_movie_rating         0.717000  0.005642    0.014023   \n",
       "rating_greater_than_mean_movie_rating_by_age  0.700598  0.001403    0.006551   \n",
       "\n",
       "                                               Romance    Action  Adventure  \\\n",
       "Rating                                        0.009644 -0.047633  -0.036718   \n",
       "Age                                           0.017420 -0.032723  -0.017328   \n",
       "Children's                                   -0.084550 -0.141314   0.098283   \n",
       "Romance                                       1.000000 -0.067830  -0.024389   \n",
       "Action                                       -0.067830  1.000000   0.374961   \n",
       "Adventure                                    -0.024389  0.374961   1.000000   \n",
       "Sci-Fi                                       -0.133752  0.319117   0.284190   \n",
       "Western                                      -0.044650  0.022242  -0.011964   \n",
       "Film-Noir                                    -0.047351 -0.080288  -0.014178   \n",
       "Documentary                                  -0.037137 -0.052565  -0.035109   \n",
       "Comedy                                        0.112843 -0.268092  -0.124960   \n",
       "Fantasy                                      -0.014822  0.014551   0.227046   \n",
       "War                                           0.053347  0.135872   0.016647   \n",
       "Crime                                        -0.073320  0.088519  -0.045924   \n",
       "Horror                                       -0.099434 -0.042733  -0.057256   \n",
       "Thriller                                     -0.081384  0.202756  -0.038423   \n",
       "Musical                                       0.023506 -0.100432  -0.022327   \n",
       "Drama                                         0.023552 -0.202415  -0.194570   \n",
       "Mystery                                      -0.040162 -0.054084  -0.043503   \n",
       "Animation                                    -0.054540 -0.110294   0.004732   \n",
       "Rating_mean_by_age                            0.015512 -0.035127  -0.015667   \n",
       "Rating_mean_by_movieid                        0.019740 -0.097499  -0.075157   \n",
       "Rating_mean_per_movie_by_age                  0.018743 -0.092575  -0.071361   \n",
       "rating_greater_than_mean_age_rating           0.003705 -0.043084  -0.036188   \n",
       "rating_greater_than_mean_movie_rating         0.000037 -0.021280  -0.008017   \n",
       "rating_greater_than_mean_movie_rating_by_age -0.002579 -0.012122  -0.002431   \n",
       "\n",
       "                                                Sci-Fi   Western  Film-Noir  \\\n",
       "Rating                                       -0.044487  0.007311   0.060259   \n",
       "Age                                          -0.012540  0.038833   0.034327   \n",
       "Children's                                   -0.038844 -0.031269  -0.038033   \n",
       "Romance                                      -0.133752 -0.044650  -0.047351   \n",
       "Action                                        0.319117  0.022242  -0.080288   \n",
       "Adventure                                     0.284190 -0.011964  -0.014178   \n",
       "Sci-Fi                                        1.000000 -0.010935  -0.004056   \n",
       "Western                                      -0.010935  1.000000  -0.019816   \n",
       "Film-Noir                                    -0.004056 -0.019816   1.000000   \n",
       "Documentary                                  -0.038568 -0.012974  -0.012175   \n",
       "Comedy                                       -0.187079  0.007927  -0.101425   \n",
       "Fantasy                                       0.121843 -0.028199  -0.026464   \n",
       "War                                           0.039314 -0.019803  -0.036984   \n",
       "Crime                                        -0.083730 -0.042711   0.136237   \n",
       "Horror                                        0.056505 -0.041784  -0.039157   \n",
       "Thriller                                      0.102546 -0.058897   0.115231   \n",
       "Musical                                      -0.068012 -0.030245  -0.028384   \n",
       "Drama                                        -0.212747 -0.045945  -0.067297   \n",
       "Mystery                                      -0.028273 -0.029727   0.215354   \n",
       "Animation                                    -0.055526 -0.030908   0.037013   \n",
       "Rating_mean_by_age                           -0.013394  0.038597   0.034110   \n",
       "Rating_mean_by_movieid                       -0.091059  0.014965   0.123343   \n",
       "Rating_mean_per_movie_by_age                 -0.086460  0.014209   0.117113   \n",
       "rating_greater_than_mean_age_rating          -0.040404  0.005898   0.051954   \n",
       "rating_greater_than_mean_movie_rating        -0.007995 -0.007952  -0.004564   \n",
       "rating_greater_than_mean_movie_rating_by_age -0.005284 -0.006330  -0.004623   \n",
       "\n",
       "                                              Documentary    Comedy   Fantasy  \\\n",
       "Rating                                           0.028098 -0.039622 -0.023312   \n",
       "Age                                              0.004025 -0.043938 -0.024406   \n",
       "Children's                                      -0.024901  0.058711  0.263280   \n",
       "Romance                                         -0.037137  0.112843 -0.014822   \n",
       "Action                                          -0.052565 -0.268092  0.014551   \n",
       "Adventure                                       -0.035109 -0.124960  0.227046   \n",
       "Sci-Fi                                          -0.038568 -0.187079  0.121843   \n",
       "Western                                         -0.012974  0.007927 -0.028199   \n",
       "Film-Noir                                       -0.012175 -0.101425 -0.026464   \n",
       "Documentary                                      1.000000 -0.040697 -0.017326   \n",
       "Comedy                                          -0.040697  1.000000 -0.006010   \n",
       "Fantasy                                         -0.017326 -0.006010  1.000000   \n",
       "War                                             -0.016082 -0.127101 -0.044928   \n",
       "Crime                                           -0.026243 -0.078030 -0.033745   \n",
       "Horror                                          -0.025673 -0.093064 -0.055803   \n",
       "Thriller                                        -0.043191 -0.299501 -0.087374   \n",
       "Musical                                         -0.007155  0.030566 -0.020134   \n",
       "Drama                                           -0.062194 -0.249840 -0.096929   \n",
       "Mystery                                         -0.018265 -0.105346 -0.039700   \n",
       "Animation                                       -0.018991  0.018544  0.012025   \n",
       "Rating_mean_by_age                               0.002029 -0.040795 -0.021726   \n",
       "Rating_mean_by_movieid                           0.057513 -0.081101 -0.047717   \n",
       "Rating_mean_per_movie_by_age                     0.054608 -0.077005 -0.045307   \n",
       "rating_greater_than_mean_age_rating              0.026635 -0.034398 -0.023413   \n",
       "rating_greater_than_mean_movie_rating           -0.007279  0.010513  0.008136   \n",
       "rating_greater_than_mean_movie_rating_by_age     0.000638  0.002483  0.002655   \n",
       "\n",
       "                                                   War     Crime    Horror  \\\n",
       "Rating                                        0.075688  0.033446 -0.094353   \n",
       "Age                                           0.039283 -0.008596 -0.025664   \n",
       "Children's                                   -0.066539 -0.081977 -0.077099   \n",
       "Romance                                       0.053347 -0.073320 -0.099434   \n",
       "Action                                        0.135872  0.088519 -0.042733   \n",
       "Adventure                                     0.016647 -0.045924 -0.057256   \n",
       "Sci-Fi                                        0.039314 -0.083730  0.056505   \n",
       "Western                                      -0.019803 -0.042711 -0.041784   \n",
       "Film-Noir                                    -0.036984  0.136237 -0.039157   \n",
       "Documentary                                  -0.016082 -0.026243 -0.025673   \n",
       "Comedy                                       -0.127101 -0.078030 -0.093064   \n",
       "Fantasy                                      -0.044928 -0.033745 -0.055803   \n",
       "War                                           1.000000 -0.079715 -0.077985   \n",
       "Crime                                        -0.079715  1.000000 -0.047899   \n",
       "Horror                                       -0.077985 -0.047899  1.000000   \n",
       "Thriller                                     -0.088018  0.115095  0.056629   \n",
       "Musical                                      -0.034429 -0.061179 -0.018924   \n",
       "Drama                                         0.136582  0.070479 -0.189551   \n",
       "Mystery                                      -0.055482  0.080093 -0.002423   \n",
       "Animation                                    -0.046114 -0.062520 -0.049730   \n",
       "Rating_mean_by_age                            0.039689 -0.011909 -0.026233   \n",
       "Rating_mean_by_movieid                        0.154924  0.068460 -0.193129   \n",
       "Rating_mean_per_movie_by_age                  0.147100  0.065003 -0.183375   \n",
       "rating_greater_than_mean_age_rating           0.065074  0.026898 -0.074983   \n",
       "rating_greater_than_mean_movie_rating        -0.007890 -0.001929 -0.007392   \n",
       "rating_greater_than_mean_movie_rating_by_age -0.006136  0.002234 -0.005839   \n",
       "\n",
       "                                              Thriller   Musical     Drama  \\\n",
       "Rating                                       -0.004806  0.015643  0.122561   \n",
       "Age                                          -0.014902  0.006373  0.064693   \n",
       "Children's                                   -0.132642  0.312567 -0.135707   \n",
       "Romance                                      -0.081384  0.023506  0.023552   \n",
       "Action                                        0.202756 -0.100432 -0.202415   \n",
       "Adventure                                    -0.038423 -0.022327 -0.194570   \n",
       "Sci-Fi                                        0.102546 -0.068012 -0.212747   \n",
       "Western                                      -0.058897 -0.030245 -0.045945   \n",
       "Film-Noir                                     0.115231 -0.028384 -0.067297   \n",
       "Documentary                                  -0.043191 -0.007155 -0.062194   \n",
       "Comedy                                       -0.299501  0.030566 -0.249840   \n",
       "Fantasy                                      -0.087374 -0.020134 -0.096929   \n",
       "War                                          -0.088018 -0.034429  0.136582   \n",
       "Crime                                         0.115095 -0.061179  0.070479   \n",
       "Horror                                        0.056629 -0.018924 -0.189551   \n",
       "Thriller                                      1.000000 -0.100690 -0.153717   \n",
       "Musical                                      -0.100690  1.000000 -0.094778   \n",
       "Drama                                        -0.153717 -0.094778  1.000000   \n",
       "Mystery                                       0.225281 -0.042581 -0.027689   \n",
       "Animation                                    -0.085713  0.335231 -0.154479   \n",
       "Rating_mean_by_age                           -0.017125  0.011342  0.059240   \n",
       "Rating_mean_by_movieid                       -0.009838  0.032019  0.250867   \n",
       "Rating_mean_per_movie_by_age                 -0.009341  0.030402  0.238197   \n",
       "rating_greater_than_mean_age_rating          -0.004543  0.012397  0.103713   \n",
       "rating_greater_than_mean_movie_rating        -0.021927  0.015950  0.013448   \n",
       "rating_greater_than_mean_movie_rating_by_age -0.015949  0.010586  0.012338   \n",
       "\n",
       "                                               Mystery  Animation  \\\n",
       "Rating                                        0.015848   0.019670   \n",
       "Age                                           0.024974  -0.045272   \n",
       "Children's                                   -0.052786   0.576204   \n",
       "Romance                                      -0.040162  -0.054540   \n",
       "Action                                       -0.054084  -0.110294   \n",
       "Adventure                                    -0.043503   0.004732   \n",
       "Sci-Fi                                       -0.028273  -0.055526   \n",
       "Western                                      -0.029727  -0.030908   \n",
       "Film-Noir                                     0.215354   0.037013   \n",
       "Documentary                                  -0.018265  -0.018991   \n",
       "Comedy                                       -0.105346   0.018544   \n",
       "Fantasy                                      -0.039700   0.012025   \n",
       "War                                          -0.055482  -0.046114   \n",
       "Crime                                         0.080093  -0.062520   \n",
       "Horror                                       -0.002423  -0.049730   \n",
       "Thriller                                      0.225281  -0.085713   \n",
       "Musical                                      -0.042581   0.335231   \n",
       "Drama                                        -0.027689  -0.154479   \n",
       "Mystery                                       1.000000  -0.042488   \n",
       "Animation                                    -0.042488   1.000000   \n",
       "Rating_mean_by_age                            0.024396  -0.036217   \n",
       "Rating_mean_by_movieid                        0.032438   0.040261   \n",
       "Rating_mean_per_movie_by_age                  0.030800   0.038228   \n",
       "rating_greater_than_mean_age_rating           0.012270   0.017250   \n",
       "rating_greater_than_mean_movie_rating        -0.010802   0.017116   \n",
       "rating_greater_than_mean_movie_rating_by_age -0.011757   0.012127   \n",
       "\n",
       "                                              Rating_mean_by_age  \\\n",
       "Rating                                                  0.061349   \n",
       "Age                                                     0.962472   \n",
       "Children's                                             -0.036208   \n",
       "Romance                                                 0.015512   \n",
       "Action                                                 -0.035127   \n",
       "Adventure                                              -0.015667   \n",
       "Sci-Fi                                                 -0.013394   \n",
       "Western                                                 0.038597   \n",
       "Film-Noir                                               0.034110   \n",
       "Documentary                                             0.002029   \n",
       "Comedy                                                 -0.040795   \n",
       "Fantasy                                                -0.021726   \n",
       "War                                                     0.039689   \n",
       "Crime                                                  -0.011909   \n",
       "Horror                                                 -0.026233   \n",
       "Thriller                                               -0.017125   \n",
       "Musical                                                 0.011342   \n",
       "Drama                                                   0.059240   \n",
       "Mystery                                                 0.024396   \n",
       "Animation                                              -0.036217   \n",
       "Rating_mean_by_age                                      1.000000   \n",
       "Rating_mean_by_movieid                                  0.102994   \n",
       "Rating_mean_per_movie_by_age                            0.119232   \n",
       "rating_greater_than_mean_age_rating                     0.048835   \n",
       "rating_greater_than_mean_movie_rating                   0.009216   \n",
       "rating_greater_than_mean_movie_rating_by_age            0.004136   \n",
       "\n",
       "                                              Rating_mean_by_movieid  \\\n",
       "Rating                                                      0.488549   \n",
       "Age                                                         0.105987   \n",
       "Children's                                                 -0.081524   \n",
       "Romance                                                     0.019740   \n",
       "Action                                                     -0.097499   \n",
       "Adventure                                                  -0.075157   \n",
       "Sci-Fi                                                     -0.091059   \n",
       "Western                                                     0.014965   \n",
       "Film-Noir                                                   0.123343   \n",
       "Documentary                                                 0.057513   \n",
       "Comedy                                                     -0.081101   \n",
       "Fantasy                                                    -0.047717   \n",
       "War                                                         0.154924   \n",
       "Crime                                                       0.068460   \n",
       "Horror                                                     -0.193129   \n",
       "Thriller                                                   -0.009838   \n",
       "Musical                                                     0.032019   \n",
       "Drama                                                       0.250867   \n",
       "Mystery                                                     0.032438   \n",
       "Animation                                                   0.040261   \n",
       "Rating_mean_by_age                                          0.102994   \n",
       "Rating_mean_by_movieid                                      1.000000   \n",
       "Rating_mean_per_movie_by_age                                0.949496   \n",
       "rating_greater_than_mean_age_rating                         0.410223   \n",
       "rating_greater_than_mean_movie_rating                       0.036349   \n",
       "rating_greater_than_mean_movie_rating_by_age                0.028256   \n",
       "\n",
       "                                              Rating_mean_per_movie_by_age  \\\n",
       "Rating                                                            0.514535   \n",
       "Age                                                               0.114758   \n",
       "Children's                                                       -0.077407   \n",
       "Romance                                                           0.018743   \n",
       "Action                                                           -0.092575   \n",
       "Adventure                                                        -0.071361   \n",
       "Sci-Fi                                                           -0.086460   \n",
       "Western                                                           0.014209   \n",
       "Film-Noir                                                         0.117113   \n",
       "Documentary                                                       0.054608   \n",
       "Comedy                                                           -0.077005   \n",
       "Fantasy                                                          -0.045307   \n",
       "War                                                               0.147100   \n",
       "Crime                                                             0.065003   \n",
       "Horror                                                           -0.183375   \n",
       "Thriller                                                         -0.009341   \n",
       "Musical                                                           0.030402   \n",
       "Drama                                                             0.238197   \n",
       "Mystery                                                           0.030800   \n",
       "Animation                                                         0.038228   \n",
       "Rating_mean_by_age                                                0.119232   \n",
       "Rating_mean_by_movieid                                            0.949496   \n",
       "Rating_mean_per_movie_by_age                                      1.000000   \n",
       "rating_greater_than_mean_age_rating                               0.430022   \n",
       "rating_greater_than_mean_movie_rating                             0.079857   \n",
       "rating_greater_than_mean_movie_rating_by_age                      0.029130   \n",
       "\n",
       "                                              rating_greater_than_mean_age_rating  \\\n",
       "Rating                                                                   0.845576   \n",
       "Age                                                                      0.046186   \n",
       "Children's                                                              -0.033144   \n",
       "Romance                                                                  0.003705   \n",
       "Action                                                                  -0.043084   \n",
       "Adventure                                                               -0.036188   \n",
       "Sci-Fi                                                                  -0.040404   \n",
       "Western                                                                  0.005898   \n",
       "Film-Noir                                                                0.051954   \n",
       "Documentary                                                              0.026635   \n",
       "Comedy                                                                  -0.034398   \n",
       "Fantasy                                                                 -0.023413   \n",
       "War                                                                      0.065074   \n",
       "Crime                                                                    0.026898   \n",
       "Horror                                                                  -0.074983   \n",
       "Thriller                                                                -0.004543   \n",
       "Musical                                                                  0.012397   \n",
       "Drama                                                                    0.103713   \n",
       "Mystery                                                                  0.012270   \n",
       "Animation                                                                0.017250   \n",
       "Rating_mean_by_age                                                       0.048835   \n",
       "Rating_mean_by_movieid                                                   0.410223   \n",
       "Rating_mean_per_movie_by_age                                             0.430022   \n",
       "rating_greater_than_mean_age_rating                                      1.000000   \n",
       "rating_greater_than_mean_movie_rating                                    0.726177   \n",
       "rating_greater_than_mean_movie_rating_by_age                             0.701219   \n",
       "\n",
       "                                              rating_greater_than_mean_movie_rating  \\\n",
       "Rating                                                                     0.717000   \n",
       "Age                                                                        0.005642   \n",
       "Children's                                                                 0.014023   \n",
       "Romance                                                                    0.000037   \n",
       "Action                                                                    -0.021280   \n",
       "Adventure                                                                 -0.008017   \n",
       "Sci-Fi                                                                    -0.007995   \n",
       "Western                                                                   -0.007952   \n",
       "Film-Noir                                                                 -0.004564   \n",
       "Documentary                                                               -0.007279   \n",
       "Comedy                                                                     0.010513   \n",
       "Fantasy                                                                    0.008136   \n",
       "War                                                                       -0.007890   \n",
       "Crime                                                                     -0.001929   \n",
       "Horror                                                                    -0.007392   \n",
       "Thriller                                                                  -0.021927   \n",
       "Musical                                                                    0.015950   \n",
       "Drama                                                                      0.013448   \n",
       "Mystery                                                                   -0.010802   \n",
       "Animation                                                                  0.017116   \n",
       "Rating_mean_by_age                                                         0.009216   \n",
       "Rating_mean_by_movieid                                                     0.036349   \n",
       "Rating_mean_per_movie_by_age                                               0.079857   \n",
       "rating_greater_than_mean_age_rating                                        0.726177   \n",
       "rating_greater_than_mean_movie_rating                                      1.000000   \n",
       "rating_greater_than_mean_movie_rating_by_age                               0.902737   \n",
       "\n",
       "                                              rating_greater_than_mean_movie_rating_by_age  \n",
       "Rating                                                                            0.700598  \n",
       "Age                                                                               0.001403  \n",
       "Children's                                                                        0.006551  \n",
       "Romance                                                                          -0.002579  \n",
       "Action                                                                           -0.012122  \n",
       "Adventure                                                                        -0.002431  \n",
       "Sci-Fi                                                                           -0.005284  \n",
       "Western                                                                          -0.006330  \n",
       "Film-Noir                                                                        -0.004623  \n",
       "Documentary                                                                       0.000638  \n",
       "Comedy                                                                            0.002483  \n",
       "Fantasy                                                                           0.002655  \n",
       "War                                                                              -0.006136  \n",
       "Crime                                                                             0.002234  \n",
       "Horror                                                                           -0.005839  \n",
       "Thriller                                                                         -0.015949  \n",
       "Musical                                                                           0.010586  \n",
       "Drama                                                                             0.012338  \n",
       "Mystery                                                                          -0.011757  \n",
       "Animation                                                                         0.012127  \n",
       "Rating_mean_by_age                                                                0.004136  \n",
       "Rating_mean_by_movieid                                                            0.028256  \n",
       "Rating_mean_per_movie_by_age                                                      0.029130  \n",
       "rating_greater_than_mean_age_rating                                               0.701219  \n",
       "rating_greater_than_mean_movie_rating                                             0.902737  \n",
       "rating_greater_than_mean_movie_rating_by_age                                      1.000000  "
      ]
     },
     "execution_count": 94,
     "metadata": {},
     "output_type": "execute_result"
    }
   ],
   "source": [
    "corr"
   ]
  },
  {
   "cell_type": "code",
   "execution_count": 96,
   "metadata": {},
   "outputs": [
    {
     "data": {
      "image/png": "[encoded data removed]",
      "text/plain": [
       "<Figure size 864x576 with 2 Axes>"
      ]
     },
     "metadata": {
      "needs_background": "light"
     },
     "output_type": "display_data"
    }
   ],
   "source": [
    "f,ax =plt.subplots(figsize=[12,8])\n",
    "sns.heatmap(corr.round(2),linewidths=0.05,mask=mask,cmap=\"coolwarm\",ax=ax,annot=True,fmt='.1f')\n",
    "f.subplots_adjust(top=0.9)\n",
    "t= f.suptitle('Correlation scores', fontsize=12);"
   ]
  },
  {
   "cell_type": "code",
   "execution_count": 97,
   "metadata": {},
   "outputs": [],
   "source": [
    "from custom_metrics import vif"
   ]
  },
  {
   "cell_type": "code",
   "execution_count": 102,
   "metadata": {},
   "outputs": [
    {
     "name": "stdout",
     "output_type": "stream",
     "text": [
      "Children's  vif=  1.81\n",
      "Romance  vif=  1.07\n",
      "Action  vif=  1.57\n",
      "Adventure  vif=  1.34\n",
      "Sci-Fi  vif=  1.27\n",
      "Western  vif=  1.03\n",
      "Film-Noir  vif=  1.14\n",
      "Documentary  vif=  1.05\n",
      "Comedy  vif=  1.58\n",
      "Fantasy  vif=  1.19\n",
      "War  vif=  1.11\n",
      "Crime  vif=  1.09\n",
      "Horror  vif=  1.19\n",
      "Thriller  vif=  1.35\n",
      "Musical  vif=  1.19\n",
      "Drama  vif=  1.67\n",
      "Mystery  vif=  1.12\n",
      "Animation  vif=  1.67\n",
      "Rating_mean_by_age  vif=  1.02\n",
      "Rating_mean_per_movie_by_age  vif=  1.67\n",
      "rating_greater_than_mean_age_rating  vif=  3.21\n",
      "rating_greater_than_mean_movie_rating  vif=  6.01\n",
      "rating_greater_than_mean_movie_rating_by_age  vif=  5.83\n"
     ]
    }
   ],
   "source": [
    "vif.vif_calc(master_data_copy,['Rating','Age','Rating_mean_by_movieid'])"
   ]
  },
  {
   "cell_type": "markdown",
   "metadata": {},
   "source": [
    "For this purpose I will be dropping collinear variables with correlation coefficients equal to or above 0.85 (threshold).\n",
    "\n",
    "From the correlation matrix, there is a very strong correlation between Age and the mean rating by age group (~0.92), so we will be dropping the age column."
   ]
  },
  {
   "cell_type": "code",
   "execution_count": 187,
   "metadata": {},
   "outputs": [],
   "source": [
    "X= master_data_copy.drop('Rating',axis=1)\n",
    "y = master_data_copy.Rating"
   ]
  },
  {
   "cell_type": "code",
   "execution_count": 174,
   "metadata": {},
   "outputs": [],
   "source": [
    "X = X.drop(['Age','Rating_mean_by_movieid'],1)"
   ]
  },
  {
   "cell_type": "code",
   "execution_count": 106,
   "metadata": {},
   "outputs": [],
   "source": [
    "from sklearn.linear_model import LinearRegression, Ridge\n",
    "from sklearn.model_selection import train_test_split,cross_val_score,GridSearchCV,KFold,ShuffleSplit\n",
    "from sklearn.preprocessing import StandardScaler,RobustScaler,MinMaxScaler"
   ]
  },
  {
   "cell_type": "code",
   "execution_count": 201,
   "metadata": {},
   "outputs": [],
   "source": [
    "X_train, X_test, y_train, y_test = train_test_split(X,y,test_size= 0.15, random_state=1992)"
   ]
  },
  {
   "cell_type": "code",
   "execution_count": 202,
   "metadata": {},
   "outputs": [],
   "source": [
    "X_train, X_val, y_train, y_val = train_test_split(X_train,y_train,test_size=0.1, random_state=124)"
   ]
  },
  {
   "cell_type": "code",
   "execution_count": 203,
   "metadata": {},
   "outputs": [
    {
     "data": {
      "text/plain": [
       "((765159, 25), (150032, 25), (85018, 25))"
      ]
     },
     "execution_count": 203,
     "metadata": {},
     "output_type": "execute_result"
    }
   ],
   "source": [
    "X_train.shape, X_test.shape, X_val.shape"
   ]
  },
  {
   "cell_type": "code",
   "execution_count": 204,
   "metadata": {},
   "outputs": [],
   "source": [
    "predictors= X_train.columns.tolist()"
   ]
  },
  {
   "cell_type": "code",
   "execution_count": 205,
   "metadata": {},
   "outputs": [],
   "source": [
    "scaler = StandardScaler()"
   ]
  },
  {
   "cell_type": "code",
   "execution_count": 193,
   "metadata": {},
   "outputs": [],
   "source": [
    "from sklearn.pipeline import Pipeline"
   ]
  },
  {
   "cell_type": "markdown",
   "metadata": {},
   "source": [
    "<b>Linear Regression </b>"
   ]
  },
  {
   "cell_type": "code",
   "execution_count": 206,
   "metadata": {},
   "outputs": [],
   "source": [
    "lin_model= LinearRegression()"
   ]
  },
  {
   "cell_type": "code",
   "execution_count": 207,
   "metadata": {},
   "outputs": [],
   "source": [
    "pipeline= Pipeline([('scaler',scaler),('model',lin_model)])"
   ]
  },
  {
   "cell_type": "code",
   "execution_count": 208,
   "metadata": {},
   "outputs": [],
   "source": [
    "fit= pipeline.fit(X_train,y_train)"
   ]
  },
  {
   "cell_type": "code",
   "execution_count": 209,
   "metadata": {},
   "outputs": [],
   "source": [
    "y_pred= pipeline.predict(X_val)"
   ]
  },
  {
   "cell_type": "code",
   "execution_count": 210,
   "metadata": {},
   "outputs": [],
   "source": [
    "from sklearn.metrics import r2_score, mean_squared_error, mean_absolute_error"
   ]
  },
  {
   "cell_type": "code",
   "execution_count": 211,
   "metadata": {},
   "outputs": [
    {
     "data": {
      "text/plain": [
       "0.8076161458823835"
      ]
     },
     "execution_count": 211,
     "metadata": {},
     "output_type": "execute_result"
    }
   ],
   "source": [
    "r2_train = r2_score(y_train, pipeline.predict(X_train))\n",
    "r2_train"
   ]
  },
  {
   "cell_type": "code",
   "execution_count": 212,
   "metadata": {},
   "outputs": [
    {
     "data": {
      "text/plain": [
       "0.8067907476886027"
      ]
     },
     "execution_count": 212,
     "metadata": {},
     "output_type": "execute_result"
    }
   ],
   "source": [
    "r2_val = r2_score(y_val,y_pred)\n",
    "r2_val"
   ]
  },
  {
   "cell_type": "code",
   "execution_count": 213,
   "metadata": {},
   "outputs": [
    {
     "data": {
      "text/plain": [
       "0.2399340828307028"
      ]
     },
     "execution_count": 213,
     "metadata": {},
     "output_type": "execute_result"
    }
   ],
   "source": [
    "train_mse = mean_squared_error(y_train, pipeline.predict(X_train))\n",
    "train_mse"
   ]
  },
  {
   "cell_type": "code",
   "execution_count": 214,
   "metadata": {},
   "outputs": [
    {
     "data": {
      "text/plain": [
       "0.24192933021228297"
      ]
     },
     "execution_count": 214,
     "metadata": {},
     "output_type": "execute_result"
    }
   ],
   "source": [
    "val_mse = mean_squared_error(y_val, y_pred)\n",
    "val_mse"
   ]
  },
  {
   "cell_type": "code",
   "execution_count": 215,
   "metadata": {},
   "outputs": [
    {
     "data": {
      "text/plain": [
       "0.3929323058790929"
      ]
     },
     "execution_count": 215,
     "metadata": {},
     "output_type": "execute_result"
    }
   ],
   "source": [
    "train_mae = mean_absolute_error(y_train, pipeline.predict(X_train))\n",
    "train_mae"
   ]
  },
  {
   "cell_type": "code",
   "execution_count": 216,
   "metadata": {},
   "outputs": [
    {
     "data": {
      "text/plain": [
       "0.3949629434550447"
      ]
     },
     "execution_count": 216,
     "metadata": {},
     "output_type": "execute_result"
    }
   ],
   "source": [
    "val_mae = mean_absolute_error(y_val, y_pred)\n",
    "val_mae"
   ]
  },
  {
   "cell_type": "code",
   "execution_count": 124,
   "metadata": {},
   "outputs": [],
   "source": [
    "coef, pred = zip(*zip(lin_model.coef_.ravel(),predictors))"
   ]
  },
  {
   "cell_type": "raw",
   "metadata": {},
   "source": [
    "pd.Series(coef, index=pred).sort_values().plot.barh(figsize=[10,6])"
   ]
  },
  {
   "cell_type": "markdown",
   "metadata": {},
   "source": [
    "<b>Ridge</b>"
   ]
  },
  {
   "cell_type": "code",
   "execution_count": 217,
   "metadata": {},
   "outputs": [],
   "source": [
    "ridge = Ridge(random_state=423)\n",
    "ridge_pl = Pipeline([('scaler',scaler),('ridge',ridge)])"
   ]
  },
  {
   "cell_type": "code",
   "execution_count": 218,
   "metadata": {},
   "outputs": [],
   "source": [
    "fit= ridge_pl.fit(X_train,y_train)"
   ]
  },
  {
   "cell_type": "code",
   "execution_count": 219,
   "metadata": {},
   "outputs": [
    {
     "data": {
      "text/plain": [
       "0.8067907442205556"
      ]
     },
     "execution_count": 219,
     "metadata": {},
     "output_type": "execute_result"
    }
   ],
   "source": [
    "ridge_pl.score(X_val,y_val)"
   ]
  },
  {
   "cell_type": "code",
   "execution_count": 220,
   "metadata": {},
   "outputs": [
    {
     "data": {
      "text/plain": [
       "0.8076161458810671"
      ]
     },
     "execution_count": 220,
     "metadata": {},
     "output_type": "execute_result"
    }
   ],
   "source": [
    "ridge_pl.score(X_train,y_train)"
   ]
  },
  {
   "cell_type": "code",
   "execution_count": 221,
   "metadata": {},
   "outputs": [
    {
     "data": {
      "text/plain": [
       "0.23993408283234458"
      ]
     },
     "execution_count": 221,
     "metadata": {},
     "output_type": "execute_result"
    }
   ],
   "source": [
    "train_mse = mean_squared_error(y_train, ridge_pl.predict(X_train))\n",
    "train_mse"
   ]
  },
  {
   "cell_type": "code",
   "execution_count": 222,
   "metadata": {},
   "outputs": [
    {
     "data": {
      "text/plain": [
       "0.24192933021228297"
      ]
     },
     "execution_count": 222,
     "metadata": {},
     "output_type": "execute_result"
    }
   ],
   "source": [
    "val_mse = mean_squared_error(y_val, y_pred)\n",
    "val_mse"
   ]
  },
  {
   "cell_type": "code",
   "execution_count": 223,
   "metadata": {},
   "outputs": [],
   "source": [
    "kfold = KFold(n_splits=5,shuffle=True,random_state=3)"
   ]
  },
  {
   "cell_type": "raw",
   "metadata": {},
   "source": [
    "(0.2268695470626076, {'ridge__alpha': 10})"
   ]
  },
  {
   "cell_type": "code",
   "execution_count": 224,
   "metadata": {
    "scrolled": false
   },
   "outputs": [
    {
     "data": {
      "text/plain": [
       "(0.23995052140731943, {'ridge__alpha': 20})"
      ]
     },
     "execution_count": 224,
     "metadata": {},
     "output_type": "execute_result"
    }
   ],
   "source": [
    "ridge_gcv= GridSearchCV(ridge_pl, \n",
    "                        param_grid={\n",
    "                            'ridge__alpha':[0.1,0.5,1,3,5,7.5,10,15,20,25,100]\n",
    "                        },scoring= 'neg_mean_squared_error', cv=10)\n",
    "\n",
    "ridge_gcv.fit(X_train,y_train)\n",
    "\n",
    "-ridge_gcv.best_score_, ridge_gcv.best_params_"
   ]
  },
  {
   "cell_type": "code",
   "execution_count": 225,
   "metadata": {},
   "outputs": [
    {
     "data": {
      "text/plain": [
       "array([-0.23995052, -0.23995052, -0.23995052, -0.23995052, -0.23995052,\n",
       "       -0.23995052, -0.23995052, -0.23995052, -0.23995052, -0.23995052,\n",
       "       -0.23995053])"
      ]
     },
     "execution_count": 225,
     "metadata": {},
     "output_type": "execute_result"
    }
   ],
   "source": [
    "ridge_gcv.cv_results_['mean_test_score']"
   ]
  },
  {
   "cell_type": "code",
   "execution_count": 226,
   "metadata": {},
   "outputs": [
    {
     "data": {
      "text/plain": [
       "array([0.00116278, 0.00116278, 0.00116278, 0.00116278, 0.00116278,\n",
       "       0.00116278, 0.00116278, 0.00116278, 0.00116278, 0.00116279,\n",
       "       0.00116279])"
      ]
     },
     "execution_count": 226,
     "metadata": {},
     "output_type": "execute_result"
    }
   ],
   "source": [
    "ridge_gcv.cv_results_['std_test_score']"
   ]
  },
  {
   "cell_type": "markdown",
   "metadata": {},
   "source": [
    "Ridge regression seems to be underfitting the model."
   ]
  },
  {
   "cell_type": "code",
   "execution_count": 133,
   "metadata": {},
   "outputs": [],
   "source": [
    "from sklearn.model_selection import learning_curve,validation_curve"
   ]
  },
  {
   "cell_type": "code",
   "execution_count": 143,
   "metadata": {},
   "outputs": [],
   "source": [
    "train_sizes, train_scores, test_scores = learning_curve(ridge_pl, X, y, cv=kfold, scoring='r2',\\\n",
    "                                                       random_state=43, shuffle=True)"
   ]
  },
  {
   "cell_type": "code",
   "execution_count": 144,
   "metadata": {},
   "outputs": [
    {
     "data": {
      "image/png": "[encoded data removed]",
      "text/plain": [
       "<Figure size 432x288 with 1 Axes>"
      ]
     },
     "metadata": {
      "needs_background": "light"
     },
     "output_type": "display_data"
    }
   ],
   "source": [
    "plt.plot(train_sizes, np.median(train_scores,1), 'r--', label='train')\n",
    "plt.plot(train_sizes, np.median(test_scores,1), 'b--', label='test')\n",
    "plt.legend();"
   ]
  },
  {
   "cell_type": "markdown",
   "metadata": {},
   "source": [
    "concatenating the X_train and X_val datasets, fitting them and predicting on the X_test"
   ]
  },
  {
   "cell_type": "code",
   "execution_count": 227,
   "metadata": {},
   "outputs": [],
   "source": [
    "X_train_ = pd.concat([X_train, X_val])\n",
    "y_train_ = pd.concat([y_train, y_val])"
   ]
  },
  {
   "cell_type": "code",
   "execution_count": 228,
   "metadata": {},
   "outputs": [],
   "source": [
    "ridge_model= ridge_gcv.best_estimator_.fit(X_train_, y_train_)"
   ]
  },
  {
   "cell_type": "code",
   "execution_count": 229,
   "metadata": {
    "scrolled": true
   },
   "outputs": [
    {
     "data": {
      "text/plain": [
       "0.8073494787138824"
      ]
     },
     "execution_count": 229,
     "metadata": {},
     "output_type": "execute_result"
    }
   ],
   "source": [
    "r2_score= ridge_model.score(X_test, y_test)\n",
    "r2_score"
   ]
  },
  {
   "cell_type": "code",
   "execution_count": 230,
   "metadata": {},
   "outputs": [
    {
     "data": {
      "text/plain": [
       "0.24068463836339005"
      ]
     },
     "execution_count": 230,
     "metadata": {},
     "output_type": "execute_result"
    }
   ],
   "source": [
    "mse = mean_squared_error(y_test, ridge_model.predict(X_test))\n",
    "mse"
   ]
  },
  {
   "cell_type": "markdown",
   "metadata": {},
   "source": [
    "Cross validation"
   ]
  },
  {
   "cell_type": "code",
   "execution_count": 231,
   "metadata": {},
   "outputs": [],
   "source": [
    "ssplit = ShuffleSplit(n_splits=10, test_size=0.35, random_state=2991)"
   ]
  },
  {
   "cell_type": "code",
   "execution_count": 232,
   "metadata": {},
   "outputs": [
    {
     "name": "stdout",
     "output_type": "stream",
     "text": [
      "[0.80759204 0.80792614 0.80730919 0.80822027 0.80785624 0.8080304\n",
      " 0.80772101 0.80774523 0.80781624 0.80735571]\n"
     ]
    },
    {
     "data": {
      "text/plain": [
       "0.8077572473516218"
      ]
     },
     "execution_count": 232,
     "metadata": {},
     "output_type": "execute_result"
    }
   ],
   "source": [
    "cvs = cross_val_score(ridge_gcv.best_estimator_, X, y, scoring='r2', cv=ssplit)\n",
    "print(cvs)\n",
    "cvs.mean()"
   ]
  },
  {
   "cell_type": "code",
   "execution_count": 233,
   "metadata": {},
   "outputs": [],
   "source": [
    "coef, pred = zip(*zip(ridge.coef_.ravel(),predictors))"
   ]
  },
  {
   "cell_type": "raw",
   "metadata": {},
   "source": [
    "pd.DataFrame(coef,index=pred,columns=['Coefficients']).sort_values(by='Coefficients')"
   ]
  },
  {
   "cell_type": "code",
   "execution_count": 234,
   "metadata": {},
   "outputs": [
    {
     "data": {
      "image/png": "[encoded data removed]",
      "text/plain": [
       "<Figure size 864x576 with 1 Axes>"
      ]
     },
     "metadata": {
      "needs_background": "light"
     },
     "output_type": "display_data"
    }
   ],
   "source": [
    "pd.DataFrame(coef,index=pred,columns=['Coefficients']).sort_values(by='Coefficients').plot.barh(figsize=[12,8]);"
   ]
  },
  {
   "cell_type": "markdown",
   "metadata": {},
   "source": [
    "<p> From the cross validation technique we see that our model is in line and seems to be underfitting  </p>"
   ]
  },
  {
   "cell_type": "markdown",
   "metadata": {},
   "source": [
    "<b> Non Parametric model </b>"
   ]
  },
  {
   "cell_type": "code",
   "execution_count": 235,
   "metadata": {},
   "outputs": [],
   "source": [
    "from sklearn.tree import DecisionTreeRegressor,ExtraTreeRegressor"
   ]
  },
  {
   "cell_type": "code",
   "execution_count": 236,
   "metadata": {},
   "outputs": [],
   "source": [
    "tree= DecisionTreeRegressor(random_state=56)"
   ]
  },
  {
   "cell_type": "code",
   "execution_count": 237,
   "metadata": {},
   "outputs": [],
   "source": [
    "fit = tree.fit(X_train, y_train)"
   ]
  },
  {
   "cell_type": "code",
   "execution_count": 238,
   "metadata": {},
   "outputs": [
    {
     "data": {
      "text/plain": [
       "0.8323533877963364"
      ]
     },
     "execution_count": 238,
     "metadata": {},
     "output_type": "execute_result"
    }
   ],
   "source": [
    "tree.score(X_val, y_val)"
   ]
  },
  {
   "cell_type": "code",
   "execution_count": 239,
   "metadata": {},
   "outputs": [],
   "source": [
    "coef, pred = zip(*zip(tree.feature_importances_,predictors))"
   ]
  },
  {
   "cell_type": "code",
   "execution_count": 240,
   "metadata": {},
   "outputs": [
    {
     "data": {
      "image/png": "[encoded data removed]",
      "text/plain": [
       "<Figure size 864x576 with 1 Axes>"
      ]
     },
     "metadata": {
      "needs_background": "light"
     },
     "output_type": "display_data"
    }
   ],
   "source": [
    "pd.Series(coef,index=pred).sort_values().plot.barh(figsize=[12,8]);"
   ]
  },
  {
   "cell_type": "code",
   "execution_count": 241,
   "metadata": {},
   "outputs": [
    {
     "data": {
      "text/plain": [
       "0.8511215831659009"
      ]
     },
     "execution_count": 241,
     "metadata": {},
     "output_type": "execute_result"
    }
   ],
   "source": [
    "tree.score(X_train, y_train)"
   ]
  },
  {
   "cell_type": "code",
   "execution_count": 242,
   "metadata": {},
   "outputs": [
    {
     "data": {
      "text/plain": [
       "0.1856756979956234"
      ]
     },
     "execution_count": 242,
     "metadata": {},
     "output_type": "execute_result"
    }
   ],
   "source": [
    "train_mse = mean_squared_error(y_train, tree.predict(X_train))\n",
    "train_mse"
   ]
  },
  {
   "cell_type": "code",
   "execution_count": 243,
   "metadata": {},
   "outputs": [
    {
     "data": {
      "text/plain": [
       "0.20992075750814423"
      ]
     },
     "execution_count": 243,
     "metadata": {},
     "output_type": "execute_result"
    }
   ],
   "source": [
    "val_mse = mean_squared_error(y_val, tree.predict(X_val))\n",
    "val_mse"
   ]
  },
  {
   "cell_type": "markdown",
   "metadata": {},
   "source": [
    "This model is overfitting so we will use grid search to find the optimal values."
   ]
  },
  {
   "cell_type": "raw",
   "metadata": {},
   "source": [
    "opt val = (0.862904220277267, {'max_depth': 11})"
   ]
  },
  {
   "cell_type": "code",
   "execution_count": 244,
   "metadata": {},
   "outputs": [
    {
     "data": {
      "text/plain": [
       "(0.8396761102990712, {'max_depth': 11})"
      ]
     },
     "execution_count": 244,
     "metadata": {},
     "output_type": "execute_result"
    }
   ],
   "source": [
    "tree_gcv = GridSearchCV(tree, \n",
    "                        param_grid={\n",
    "                            'max_depth': [6,7,8,9,10,11,12,13,14]\n",
    "                        }, scoring='r2', cv=kfold)\n",
    "\n",
    "tree_gcv.fit(X_train, y_train)\n",
    "\n",
    "tree_gcv.best_score_, tree_gcv.best_params_"
   ]
  },
  {
   "cell_type": "code",
   "execution_count": 245,
   "metadata": {},
   "outputs": [
    {
     "data": {
      "text/plain": [
       "0.8397475463005599"
      ]
     },
     "execution_count": 245,
     "metadata": {},
     "output_type": "execute_result"
    }
   ],
   "source": [
    "tree_gcv.best_estimator_.score(X_val,y_val)"
   ]
  },
  {
   "cell_type": "code",
   "execution_count": 246,
   "metadata": {},
   "outputs": [
    {
     "data": {
      "text/plain": [
       "0.20066207143069312"
      ]
     },
     "execution_count": 246,
     "metadata": {},
     "output_type": "execute_result"
    }
   ],
   "source": [
    "val_mse = mean_squared_error(y_val, tree_gcv.best_estimator_.predict(X_val))\n",
    "val_mse"
   ]
  },
  {
   "cell_type": "code",
   "execution_count": 247,
   "metadata": {},
   "outputs": [
    {
     "data": {
      "text/plain": [
       "0.8406039778667973"
      ]
     },
     "execution_count": 247,
     "metadata": {},
     "output_type": "execute_result"
    }
   ],
   "source": [
    "tree_gcv.best_estimator_.score(X_train,y_train)"
   ]
  },
  {
   "cell_type": "code",
   "execution_count": 248,
   "metadata": {},
   "outputs": [
    {
     "data": {
      "text/plain": [
       "0.19879286935384444"
      ]
     },
     "execution_count": 248,
     "metadata": {},
     "output_type": "execute_result"
    }
   ],
   "source": [
    "train_mse = mean_squared_error(y_train, tree_gcv.best_estimator_.predict(X_train))\n",
    "train_mse"
   ]
  },
  {
   "cell_type": "markdown",
   "metadata": {},
   "source": [
    "<b> The model seems not to be overfitting anymore </b>"
   ]
  },
  {
   "cell_type": "code",
   "execution_count": 249,
   "metadata": {},
   "outputs": [],
   "source": [
    "tree_model = tree_gcv.best_estimator_.fit(X_train_, y_train_)#0.8642376712418565"
   ]
  },
  {
   "cell_type": "code",
   "execution_count": 250,
   "metadata": {},
   "outputs": [
    {
     "data": {
      "text/plain": [
       "0.8394030828214183"
      ]
     },
     "execution_count": 250,
     "metadata": {},
     "output_type": "execute_result"
    }
   ],
   "source": [
    "tree_model.score(X_test,y_test)"
   ]
  },
  {
   "cell_type": "code",
   "execution_count": 251,
   "metadata": {},
   "outputs": [],
   "source": [
    "features, importance = zip(*zip(predictors,tree.feature_importances_ ))"
   ]
  },
  {
   "cell_type": "code",
   "execution_count": 252,
   "metadata": {},
   "outputs": [
    {
     "data": {
      "image/png": "[encoded data removed]",
      "text/plain": [
       "<Figure size 864x576 with 1 Axes>"
      ]
     },
     "metadata": {
      "needs_background": "light"
     },
     "output_type": "display_data"
    }
   ],
   "source": [
    "pd.DataFrame(importance, index= features, columns=['Feature importance']).sort_values(by='Feature importance'\\\n",
    "                                                                                     ).plot.barh(figsize=[12,8]);"
   ]
  },
  {
   "cell_type": "code",
   "execution_count": 253,
   "metadata": {},
   "outputs": [],
   "source": [
    "from skater.core.explanations import Interpretation\n",
    "from skater.model import InMemoryModel"
   ]
  },
  {
   "cell_type": "code",
   "execution_count": 254,
   "metadata": {},
   "outputs": [
    {
     "name": "stdout",
     "output_type": "stream",
     "text": [
      "[25/25] features ████████████████████ Time elapsed: 5 seconds"
     ]
    },
    {
     "data": {
      "image/png": "[encoded data removed]",
      "text/plain": [
       "<Figure size 432x288 with 1 Axes>"
      ]
     },
     "metadata": {
      "needs_background": "light"
     },
     "output_type": "display_data"
    }
   ],
   "source": [
    "interpreter = Interpretation(X_val, feature_names=predictors)\n",
    "model = InMemoryModel(tree.predict, examples=X_train)\n",
    "plots = interpreter.feature_importance.plot_feature_importance(model, ascending=False)"
   ]
  },
  {
   "cell_type": "code",
   "execution_count": 255,
   "metadata": {},
   "outputs": [],
   "source": [
    "from eli5.sklearn import PermutationImportance\n",
    "import eli5"
   ]
  },
  {
   "cell_type": "code",
   "execution_count": 256,
   "metadata": {},
   "outputs": [
    {
     "data": {
      "text/html": [
       "\n",
       "    <style>\n",
       "    table.eli5-weights tr:hover {\n",
       "        filter: brightness(85%);\n",
       "    }\n",
       "</style>\n",
       "\n",
       "\n",
       "\n",
       "    \n",
       "\n",
       "    \n",
       "\n",
       "    \n",
       "\n",
       "    \n",
       "\n",
       "    \n",
       "\n",
       "    \n",
       "\n",
       "\n",
       "    \n",
       "\n",
       "    \n",
       "\n",
       "    \n",
       "\n",
       "    \n",
       "\n",
       "    \n",
       "\n",
       "    \n",
       "\n",
       "\n",
       "    \n",
       "\n",
       "    \n",
       "\n",
       "    \n",
       "\n",
       "    \n",
       "\n",
       "    \n",
       "        <table class=\"eli5-weights eli5-feature-importances\" style=\"border-collapse: collapse; border: none; margin-top: 0em; table-layout: auto;\">\n",
       "    <thead>\n",
       "    <tr style=\"border: none;\">\n",
       "        <th style=\"padding: 0 1em 0 0.5em; text-align: right; border: none;\">Weight</th>\n",
       "        <th style=\"padding: 0 0.5em 0 0.5em; text-align: left; border: none;\">Feature</th>\n",
       "    </tr>\n",
       "    </thead>\n",
       "    <tbody>\n",
       "    \n",
       "        <tr style=\"background-color: hsl(120, 100.00%, 80.00%); border: none;\">\n",
       "            <td style=\"padding: 0 1em 0 0.5em; text-align: right; border: none;\">\n",
       "                1.1533\n",
       "                \n",
       "                    &plusmn; 0.0073\n",
       "                \n",
       "            </td>\n",
       "            <td style=\"padding: 0 0.5em 0 0.5em; text-align: left; border: none;\">\n",
       "                rating_greater_than_mean_age_rating\n",
       "            </td>\n",
       "        </tr>\n",
       "    \n",
       "        <tr style=\"background-color: hsl(120, 100.00%, 92.89%); border: none;\">\n",
       "            <td style=\"padding: 0 1em 0 0.5em; text-align: right; border: none;\">\n",
       "                0.2631\n",
       "                \n",
       "                    &plusmn; 0.0015\n",
       "                \n",
       "            </td>\n",
       "            <td style=\"padding: 0 0.5em 0 0.5em; text-align: left; border: none;\">\n",
       "                Rating_mean_per_movie_by_age\n",
       "            </td>\n",
       "        </tr>\n",
       "    \n",
       "        <tr style=\"background-color: hsl(120, 100.00%, 93.13%); border: none;\">\n",
       "            <td style=\"padding: 0 1em 0 0.5em; text-align: right; border: none;\">\n",
       "                0.2504\n",
       "                \n",
       "                    &plusmn; 0.0018\n",
       "                \n",
       "            </td>\n",
       "            <td style=\"padding: 0 0.5em 0 0.5em; text-align: left; border: none;\">\n",
       "                rating_greater_than_mean_movie_rating_by_age\n",
       "            </td>\n",
       "        </tr>\n",
       "    \n",
       "        <tr style=\"background-color: hsl(120, 100.00%, 95.92%); border: none;\">\n",
       "            <td style=\"padding: 0 1em 0 0.5em; text-align: right; border: none;\">\n",
       "                0.1192\n",
       "                \n",
       "                    &plusmn; 0.0030\n",
       "                \n",
       "            </td>\n",
       "            <td style=\"padding: 0 0.5em 0 0.5em; text-align: left; border: none;\">\n",
       "                Rating_mean_by_movieid\n",
       "            </td>\n",
       "        </tr>\n",
       "    \n",
       "        <tr style=\"background-color: hsl(120, 100.00%, 97.76%); border: none;\">\n",
       "            <td style=\"padding: 0 1em 0 0.5em; text-align: right; border: none;\">\n",
       "                0.0506\n",
       "                \n",
       "                    &plusmn; 0.0012\n",
       "                \n",
       "            </td>\n",
       "            <td style=\"padding: 0 0.5em 0 0.5em; text-align: left; border: none;\">\n",
       "                rating_greater_than_mean_movie_rating\n",
       "            </td>\n",
       "        </tr>\n",
       "    \n",
       "        <tr style=\"background-color: hsl(120, 100.00%, 99.10%); border: none;\">\n",
       "            <td style=\"padding: 0 1em 0 0.5em; text-align: right; border: none;\">\n",
       "                0.0137\n",
       "                \n",
       "                    &plusmn; 0.0005\n",
       "                \n",
       "            </td>\n",
       "            <td style=\"padding: 0 0.5em 0 0.5em; text-align: left; border: none;\">\n",
       "                Age\n",
       "            </td>\n",
       "        </tr>\n",
       "    \n",
       "        <tr style=\"background-color: hsl(120, 100.00%, 99.19%); border: none;\">\n",
       "            <td style=\"padding: 0 1em 0 0.5em; text-align: right; border: none;\">\n",
       "                0.0118\n",
       "                \n",
       "                    &plusmn; 0.0011\n",
       "                \n",
       "            </td>\n",
       "            <td style=\"padding: 0 0.5em 0 0.5em; text-align: left; border: none;\">\n",
       "                Rating_mean_by_age\n",
       "            </td>\n",
       "        </tr>\n",
       "    \n",
       "        <tr style=\"background-color: hsl(120, 100.00%, 99.50%); border: none;\">\n",
       "            <td style=\"padding: 0 1em 0 0.5em; text-align: right; border: none;\">\n",
       "                0.0059\n",
       "                \n",
       "                    &plusmn; 0.0002\n",
       "                \n",
       "            </td>\n",
       "            <td style=\"padding: 0 0.5em 0 0.5em; text-align: left; border: none;\">\n",
       "                Comedy\n",
       "            </td>\n",
       "        </tr>\n",
       "    \n",
       "        <tr style=\"background-color: hsl(120, 100.00%, 99.50%); border: none;\">\n",
       "            <td style=\"padding: 0 1em 0 0.5em; text-align: right; border: none;\">\n",
       "                0.0059\n",
       "                \n",
       "                    &plusmn; 0.0006\n",
       "                \n",
       "            </td>\n",
       "            <td style=\"padding: 0 0.5em 0 0.5em; text-align: left; border: none;\">\n",
       "                Drama\n",
       "            </td>\n",
       "        </tr>\n",
       "    \n",
       "        <tr style=\"background-color: hsl(120, 100.00%, 99.56%); border: none;\">\n",
       "            <td style=\"padding: 0 1em 0 0.5em; text-align: right; border: none;\">\n",
       "                0.0049\n",
       "                \n",
       "                    &plusmn; 0.0004\n",
       "                \n",
       "            </td>\n",
       "            <td style=\"padding: 0 0.5em 0 0.5em; text-align: left; border: none;\">\n",
       "                Action\n",
       "            </td>\n",
       "        </tr>\n",
       "    \n",
       "        <tr style=\"background-color: hsl(120, 100.00%, 99.69%); border: none;\">\n",
       "            <td style=\"padding: 0 1em 0 0.5em; text-align: right; border: none;\">\n",
       "                0.0030\n",
       "                \n",
       "                    &plusmn; 0.0003\n",
       "                \n",
       "            </td>\n",
       "            <td style=\"padding: 0 0.5em 0 0.5em; text-align: left; border: none;\">\n",
       "                Sci-Fi\n",
       "            </td>\n",
       "        </tr>\n",
       "    \n",
       "        <tr style=\"background-color: hsl(120, 100.00%, 99.69%); border: none;\">\n",
       "            <td style=\"padding: 0 1em 0 0.5em; text-align: right; border: none;\">\n",
       "                0.0029\n",
       "                \n",
       "                    &plusmn; 0.0004\n",
       "                \n",
       "            </td>\n",
       "            <td style=\"padding: 0 0.5em 0 0.5em; text-align: left; border: none;\">\n",
       "                Thriller\n",
       "            </td>\n",
       "        </tr>\n",
       "    \n",
       "        <tr style=\"background-color: hsl(120, 100.00%, 99.74%); border: none;\">\n",
       "            <td style=\"padding: 0 1em 0 0.5em; text-align: right; border: none;\">\n",
       "                0.0023\n",
       "                \n",
       "                    &plusmn; 0.0005\n",
       "                \n",
       "            </td>\n",
       "            <td style=\"padding: 0 0.5em 0 0.5em; text-align: left; border: none;\">\n",
       "                Horror\n",
       "            </td>\n",
       "        </tr>\n",
       "    \n",
       "        <tr style=\"background-color: hsl(120, 100.00%, 99.76%); border: none;\">\n",
       "            <td style=\"padding: 0 1em 0 0.5em; text-align: right; border: none;\">\n",
       "                0.0021\n",
       "                \n",
       "                    &plusmn; 0.0005\n",
       "                \n",
       "            </td>\n",
       "            <td style=\"padding: 0 0.5em 0 0.5em; text-align: left; border: none;\">\n",
       "                Adventure\n",
       "            </td>\n",
       "        </tr>\n",
       "    \n",
       "        <tr style=\"background-color: hsl(120, 100.00%, 99.77%); border: none;\">\n",
       "            <td style=\"padding: 0 1em 0 0.5em; text-align: right; border: none;\">\n",
       "                0.0019\n",
       "                \n",
       "                    &plusmn; 0.0002\n",
       "                \n",
       "            </td>\n",
       "            <td style=\"padding: 0 0.5em 0 0.5em; text-align: left; border: none;\">\n",
       "                Romance\n",
       "            </td>\n",
       "        </tr>\n",
       "    \n",
       "        <tr style=\"background-color: hsl(120, 100.00%, 99.84%); border: none;\">\n",
       "            <td style=\"padding: 0 1em 0 0.5em; text-align: right; border: none;\">\n",
       "                0.0012\n",
       "                \n",
       "                    &plusmn; 0.0003\n",
       "                \n",
       "            </td>\n",
       "            <td style=\"padding: 0 0.5em 0 0.5em; text-align: left; border: none;\">\n",
       "                War\n",
       "            </td>\n",
       "        </tr>\n",
       "    \n",
       "        <tr style=\"background-color: hsl(120, 100.00%, 99.84%); border: none;\">\n",
       "            <td style=\"padding: 0 1em 0 0.5em; text-align: right; border: none;\">\n",
       "                0.0011\n",
       "                \n",
       "                    &plusmn; 0.0002\n",
       "                \n",
       "            </td>\n",
       "            <td style=\"padding: 0 0.5em 0 0.5em; text-align: left; border: none;\">\n",
       "                Crime\n",
       "            </td>\n",
       "        </tr>\n",
       "    \n",
       "        <tr style=\"background-color: hsl(120, 100.00%, 99.86%); border: none;\">\n",
       "            <td style=\"padding: 0 1em 0 0.5em; text-align: right; border: none;\">\n",
       "                0.0009\n",
       "                \n",
       "                    &plusmn; 0.0002\n",
       "                \n",
       "            </td>\n",
       "            <td style=\"padding: 0 0.5em 0 0.5em; text-align: left; border: none;\">\n",
       "                Musical\n",
       "            </td>\n",
       "        </tr>\n",
       "    \n",
       "        <tr style=\"background-color: hsl(120, 100.00%, 99.90%); border: none;\">\n",
       "            <td style=\"padding: 0 1em 0 0.5em; text-align: right; border: none;\">\n",
       "                0.0006\n",
       "                \n",
       "                    &plusmn; 0.0001\n",
       "                \n",
       "            </td>\n",
       "            <td style=\"padding: 0 0.5em 0 0.5em; text-align: left; border: none;\">\n",
       "                Children&#x27;s\n",
       "            </td>\n",
       "        </tr>\n",
       "    \n",
       "        <tr style=\"background-color: hsl(120, 100.00%, 99.91%); border: none;\">\n",
       "            <td style=\"padding: 0 1em 0 0.5em; text-align: right; border: none;\">\n",
       "                0.0005\n",
       "                \n",
       "                    &plusmn; 0.0001\n",
       "                \n",
       "            </td>\n",
       "            <td style=\"padding: 0 0.5em 0 0.5em; text-align: left; border: none;\">\n",
       "                Animation\n",
       "            </td>\n",
       "        </tr>\n",
       "    \n",
       "    \n",
       "        \n",
       "            <tr style=\"background-color: hsl(120, 100.00%, 99.91%); border: none;\">\n",
       "                <td colspan=\"2\" style=\"padding: 0 0.5em 0 0.5em; text-align: center; border: none; white-space: nowrap;\">\n",
       "                    <i>&hellip; 5 more &hellip;</i>\n",
       "                </td>\n",
       "            </tr>\n",
       "        \n",
       "    \n",
       "    </tbody>\n",
       "</table>\n",
       "    \n",
       "\n",
       "    \n",
       "\n",
       "\n",
       "    \n",
       "\n",
       "    \n",
       "\n",
       "    \n",
       "\n",
       "    \n",
       "\n",
       "    \n",
       "\n",
       "    \n",
       "\n",
       "\n",
       "\n"
      ],
      "text/plain": [
       "<IPython.core.display.HTML object>"
      ]
     },
     "execution_count": 256,
     "metadata": {},
     "output_type": "execute_result"
    }
   ],
   "source": [
    "perm = PermutationImportance(tree, scoring='neg_mean_squared_error',random_state=2).fit(X_val,y_val)\n",
    "eli5.show_weights(perm,feature_names=predictors)"
   ]
  },
  {
   "cell_type": "code",
   "execution_count": 257,
   "metadata": {},
   "outputs": [
    {
     "name": "stdout",
     "output_type": "stream",
     "text": [
      "[0.83941521 0.84008844 0.83942839 0.840675   0.83953351 0.84007069\n",
      " 0.83993641 0.83984111 0.83947999 0.83953986]\n"
     ]
    },
    {
     "data": {
      "text/plain": [
       "0.8398008593408866"
      ]
     },
     "execution_count": 257,
     "metadata": {},
     "output_type": "execute_result"
    }
   ],
   "source": [
    "cvs= cross_val_score(tree_gcv.best_estimator_, X, y, scoring='r2', cv=ssplit)\n",
    "print(cvs)\n",
    "cvs.mean()"
   ]
  },
  {
   "cell_type": "code",
   "execution_count": null,
   "metadata": {},
   "outputs": [],
   "source": []
  },
  {
   "cell_type": "code",
   "execution_count": 259,
   "metadata": {},
   "outputs": [],
   "source": [
    "extratree = ExtraTreeRegressor(random_state=426)"
   ]
  },
  {
   "cell_type": "code",
   "execution_count": 260,
   "metadata": {},
   "outputs": [],
   "source": [
    "fit= extratree.fit(X_train, y_train)"
   ]
  },
  {
   "cell_type": "code",
   "execution_count": 261,
   "metadata": {},
   "outputs": [
    {
     "data": {
      "text/plain": [
       "0.8325312682051393"
      ]
     },
     "execution_count": 261,
     "metadata": {},
     "output_type": "execute_result"
    }
   ],
   "source": [
    "extratree.score(X_val, y_val)"
   ]
  },
  {
   "cell_type": "code",
   "execution_count": 262,
   "metadata": {},
   "outputs": [
    {
     "data": {
      "text/plain": [
       "0.8511215831659009"
      ]
     },
     "execution_count": 262,
     "metadata": {},
     "output_type": "execute_result"
    }
   ],
   "source": [
    "extratree.score(X_train, y_train)"
   ]
  },
  {
   "cell_type": "code",
   "execution_count": 112,
   "metadata": {},
   "outputs": [
    {
     "data": {
      "text/plain": [
       "(0.8576987834169556, {'max_depth': 15})"
      ]
     },
     "execution_count": 112,
     "metadata": {},
     "output_type": "execute_result"
    }
   ],
   "source": [
    "extratree_gcv = GridSearchCV(extratree, \n",
    "                        param_grid={\n",
    "                            'max_depth': [15]\n",
    "                        }, scoring='r2', cv=kfold)\n",
    "\n",
    "extratree_gcv.fit(X_train, y_train)\n",
    "\n",
    "extratree_gcv.best_score_, extratree_gcv.best_params_"
   ]
  },
  {
   "cell_type": "code",
   "execution_count": 113,
   "metadata": {},
   "outputs": [
    {
     "data": {
      "text/plain": [
       "array([0.85769878])"
      ]
     },
     "execution_count": 113,
     "metadata": {},
     "output_type": "execute_result"
    }
   ],
   "source": [
    "extratree_gcv.cv_results_['mean_test_score']"
   ]
  },
  {
   "cell_type": "code",
   "execution_count": 114,
   "metadata": {},
   "outputs": [
    {
     "ename": "SyntaxError",
     "evalue": "invalid syntax (<ipython-input-114-a75fce5dadbd>, line 1)",
     "output_type": "error",
     "traceback": [
      "\u001b[1;36m  File \u001b[1;32m\"<ipython-input-114-a75fce5dadbd>\"\u001b[1;36m, line \u001b[1;32m1\u001b[0m\n\u001b[1;33m    extratree_gcv.best_estimator_.score(X_val,y_val)`\u001b[0m\n\u001b[1;37m                                                    ^\u001b[0m\n\u001b[1;31mSyntaxError\u001b[0m\u001b[1;31m:\u001b[0m invalid syntax\n"
     ]
    }
   ],
   "source": [
    "extratree_gcv.best_estimator_.score(X_val,y_val)"
   ]
  },
  {
   "cell_type": "code",
   "execution_count": null,
   "metadata": {},
   "outputs": [],
   "source": [
    "extratree_gcv.best_estimator_.score(X_train,y_train)"
   ]
  },
  {
   "cell_type": "code",
   "execution_count": null,
   "metadata": {},
   "outputs": [],
   "source": [
    "val_mse = mean_squared_error(y_val, extratree_gcv.best_estimator_.predict(X_val))\n",
    "val_mse"
   ]
  },
  {
   "cell_type": "code",
   "execution_count": null,
   "metadata": {},
   "outputs": [],
   "source": [
    "train_mse = mean_squared_error(y_train, tree_gcv.best_estimator_.predict(X_train))\n",
    "train_mse"
   ]
  },
  {
   "cell_type": "code",
   "execution_count": null,
   "metadata": {},
   "outputs": [],
   "source": [
    "extratree_gcv.best_estimator_.score(X_test,y_test) #predicting the X_test"
   ]
  },
  {
   "cell_type": "markdown",
   "metadata": {},
   "source": [
    "Cross validation"
   ]
  },
  {
   "cell_type": "code",
   "execution_count": null,
   "metadata": {},
   "outputs": [],
   "source": [
    "cvs= cross_val_score(extratree_gcv.best_estimator_, X_train_, y_train_, scoring='r2', cv=ssplit)\n",
    "print(cvs)\n",
    "cvs.mean()"
   ]
  },
  {
   "cell_type": "code",
   "execution_count": 266,
   "metadata": {},
   "outputs": [],
   "source": [
    "from sklearn.ensemble import VotingRegressor"
   ]
  },
  {
   "cell_type": "code",
   "execution_count": 267,
   "metadata": {},
   "outputs": [],
   "source": [
    "vreg = VotingRegressor([('ridge',ridge),('tree',tree),('extratree',extratree)])"
   ]
  },
  {
   "cell_type": "code",
   "execution_count": 268,
   "metadata": {},
   "outputs": [],
   "source": [
    "fit=vreg.fit(X_train, y_train)"
   ]
  },
  {
   "cell_type": "code",
   "execution_count": 269,
   "metadata": {},
   "outputs": [
    {
     "data": {
      "text/plain": [
       "0.9797091511496802"
      ]
     },
     "execution_count": 269,
     "metadata": {},
     "output_type": "execute_result"
    }
   ],
   "source": [
    "vreg.score(X_train,y_train)"
   ]
  },
  {
   "cell_type": "raw",
   "metadata": {},
   "source": [
    "pred,imp = zip(*zip(predictors,vreg.named_estimators_['extratree'].feature_importances_))"
   ]
  },
  {
   "cell_type": "raw",
   "metadata": {},
   "source": [
    "pd.Series(imp, index=pred).sort_values().plot.barh(figsize=[12,7])"
   ]
  },
  {
   "cell_type": "code",
   "execution_count": 275,
   "metadata": {},
   "outputs": [
    {
     "data": {
      "text/plain": [
       "0.8314070744972387"
      ]
     },
     "execution_count": 275,
     "metadata": {},
     "output_type": "execute_result"
    }
   ],
   "source": [
    "vreg.score(X_val,y_val)"
   ]
  },
  {
   "cell_type": "code",
   "execution_count": 276,
   "metadata": {},
   "outputs": [],
   "source": [
    "from sklearn.ensemble import RandomForestRegressor"
   ]
  },
  {
   "cell_type": "code",
   "execution_count": 281,
   "metadata": {},
   "outputs": [],
   "source": [
    "rfc = RandomForestRegressor()"
   ]
  },
  {
   "cell_type": "code",
   "execution_count": 282,
   "metadata": {},
   "outputs": [],
   "source": [
    "fit= rfc.fit(X_train, y_train)"
   ]
  },
  {
   "cell_type": "code",
   "execution_count": 283,
   "metadata": {},
   "outputs": [
    {
     "data": {
      "text/plain": [
       "0.9731069978140267"
      ]
     },
     "execution_count": 283,
     "metadata": {},
     "output_type": "execute_result"
    }
   ],
   "source": [
    "rfc.score(X_train, y_train)"
   ]
  },
  {
   "cell_type": "code",
   "execution_count": 284,
   "metadata": {},
   "outputs": [
    {
     "data": {
      "text/plain": [
       "0.8489313896545123"
      ]
     },
     "execution_count": 284,
     "metadata": {},
     "output_type": "execute_result"
    }
   ],
   "source": [
    "rfc.score(X_val, y_val)"
   ]
  },
  {
   "cell_type": "code",
   "execution_count": 285,
   "metadata": {},
   "outputs": [],
   "source": [
    "pred, imp = zip(*zip(predictors, rfc.feature_importances_))"
   ]
  },
  {
   "cell_type": "code",
   "execution_count": 286,
   "metadata": {},
   "outputs": [
    {
     "data": {
      "image/png": "[encoded data removed]",
      "text/plain": [
       "<Figure size 792x504 with 1 Axes>"
      ]
     },
     "metadata": {
      "needs_background": "light"
     },
     "output_type": "display_data"
    }
   ],
   "source": [
    "pd.Series(imp, index=pred).sort_values().plot.barh(figsize=[11,7]);"
   ]
  },
  {
   "cell_type": "code",
   "execution_count": 287,
   "metadata": {},
   "outputs": [],
   "source": [
    "from xgboost import XGBRegressor\n",
    "from xgboost import plot_importance"
   ]
  },
  {
   "cell_type": "code",
   "execution_count": 288,
   "metadata": {},
   "outputs": [
    {
     "name": "stdout",
     "output_type": "stream",
     "text": [
      "[21:23:42] WARNING: C:/Jenkins/workspace/xgboost-win64_release_0.90/src/objective/regression_obj.cu:152: reg:linear is now deprecated in favor of reg:squarederror.\n"
     ]
    }
   ],
   "source": [
    "xgb = XGBRegressor(random_state=53, max_depth=5)\n",
    "fit= xgb.fit(X_train, y_train)"
   ]
  },
  {
   "cell_type": "code",
   "execution_count": 289,
   "metadata": {},
   "outputs": [
    {
     "data": {
      "text/plain": [
       "0.8642419228956066"
      ]
     },
     "execution_count": 289,
     "metadata": {},
     "output_type": "execute_result"
    }
   ],
   "source": [
    "xgb.score(X_train, y_train)"
   ]
  },
  {
   "cell_type": "code",
   "execution_count": 290,
   "metadata": {},
   "outputs": [
    {
     "data": {
      "text/plain": [
       "0.8652332097688313"
      ]
     },
     "execution_count": 290,
     "metadata": {},
     "output_type": "execute_result"
    }
   ],
   "source": [
    "xgb.score(X_val, y_val)"
   ]
  },
  {
   "cell_type": "code",
   "execution_count": 291,
   "metadata": {},
   "outputs": [],
   "source": [
    "pred, imp = zip(*zip(predictors, xgb.feature_importances_))"
   ]
  },
  {
   "cell_type": "code",
   "execution_count": 292,
   "metadata": {
    "scrolled": false
   },
   "outputs": [
    {
     "data": {
      "text/plain": [
       "<matplotlib.axes._subplots.AxesSubplot at 0xee81975208>"
      ]
     },
     "execution_count": 292,
     "metadata": {},
     "output_type": "execute_result"
    },
    {
     "data": {
      "image/png": "[encoded data removed]",
      "text/plain": [
       "<Figure size 792x576 with 1 Axes>"
      ]
     },
     "metadata": {
      "needs_background": "light"
     },
     "output_type": "display_data"
    }
   ],
   "source": [
    "pd.Series(imp, index=pred).sort_values().plot.barh(figsize=[11,8])"
   ]
  },
  {
   "cell_type": "code",
   "execution_count": 293,
   "metadata": {
    "scrolled": false
   },
   "outputs": [
    {
     "data": {
      "text/plain": [
       "<matplotlib.axes._subplots.AxesSubplot at 0xee816773c8>"
      ]
     },
     "execution_count": 293,
     "metadata": {},
     "output_type": "execute_result"
    },
    {
     "data": {
      "image/png": "[encoded data removed]",
      "text/plain": [
       "<Figure size 864x432 with 1 Axes>"
      ]
     },
     "metadata": {
      "needs_background": "light"
     },
     "output_type": "display_data"
    }
   ],
   "source": [
    "fig,ax =plt.subplots(figsize=[12,6])\n",
    "plot_importance(xgb,ax=ax,)"
   ]
  }
 ],
 "metadata": {
  "kernelspec": {
   "display_name": "Python 3",
   "language": "python",
   "name": "python3"
  },
  "language_info": {
   "codemirror_mode": {
    "name": "ipython",
    "version": 3
   },
   "file_extension": ".py",
   "mimetype": "text/x-python",
   "name": "python",
   "nbconvert_exporter": "python",
   "pygments_lexer": "ipython3",
   "version": "3.7.4"
  }
 },
 "nbformat": 4,
 "nbformat_minor": 2
}
